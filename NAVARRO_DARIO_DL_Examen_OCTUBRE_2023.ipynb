{
  "cells": [
    {
      "cell_type": "markdown",
      "metadata": {
        "id": "ftXnmgdtOuZs"
      },
      "source": [
        "# Universidad de Buenos Aires\n",
        "# Deep Learning - Examen\n",
        "# Octubre 2023\n",
        "\n"
      ]
    },
    {
      "cell_type": "markdown",
      "metadata": {
        "id": "kkTaSvR85KJ6"
      },
      "source": []
    },
    {
      "cell_type": "markdown",
      "metadata": {
        "id": "aEx1gM2sG4OP"
      },
      "source": [
        "El examen comienza al momento de recibir este correo y la ventana de entrega estará abierta hasta el Lunes 23 de Octubre a las 20:00hs. Toda comunicación con otros alumnos respecto del examen y la resolución de los ejercicios, queda estrictamente prohibida. Los exámenes serán comparados desde el punto de vista de la redacción, de los resultados y del código para determinar que el trabajo fue 100% individual y único. El examen es a libro abierto, pudiendo utilizar los contenidos vistos en clase y otra bibliografía. Todas las soluciones deben ser originales y si se toman ideas de fuentes externas deben ser correctamente citas incluyendo el correspondiente link o página de libro.\n",
        "\n",
        "El formato de entrega debe ser un “link a un colab” (compartir a las siguientes direcciones: maxit1992@gmail.com y lelectronfou@gmail.com ) o un “link a un notebook en un github público”.\n",
        "\n",
        "**Consideraciones a tener en cuenta:**\n",
        "- Se entregará 1 solo colab para la totalidad del examen.\n",
        "- Renombrar el archivo de la siguiente manera: **APELLIDO-NOMBRE-DL-Examen OCTUBRE 2023.ipynb**\n",
        "- Los códigos deben poder ejecutarse.\n",
        "- Los resultados, cómo el código y las explicaciones deben quedar guardados y visualizables en el correspondiente link.\n",
        "- Prestar atención a las consignas, responder las preguntas cuando corresponda.\n",
        "\n"
      ]
    },
    {
      "cell_type": "markdown",
      "metadata": {
        "id": "nlfSxrehmuYW"
      },
      "source": [
        "## Ejercicio 1\n",
        "\n"
      ]
    },
    {
      "cell_type": "markdown",
      "metadata": {
        "id": "8K24O_YBWUIP"
      },
      "source": [
        "Dado el grafo de cómputo de la siguiente imagen:"
      ]
    },
    {
      "cell_type": "markdown",
      "metadata": {
        "id": "1-uXfqO9WWx2"
      },
      "source": [
        "![Graph.jpg](data:image/jpeg;base64,/9j/4AAQSkZJRgABAQEAcwBzAAD/4QAiRXhpZgAATU0AKgAAAAgAAQESAAMAAAABAAEAAAAAAAD/2wBDAAIBAQIBAQICAgICAgICAwUDAwMDAwYEBAMFBwYHBwcGBwcICQsJCAgKCAcHCg0KCgsMDAwMBwkODw0MDgsMDAz/2wBDAQICAgMDAwYDAwYMCAcIDAwMDAwMDAwMDAwMDAwMDAwMDAwMDAwMDAwMDAwMDAwMDAwMDAwMDAwMDAwMDAwMDAz/wAARCAEPASwDASIAAhEBAxEB/8QAHwAAAQUBAQEBAQEAAAAAAAAAAAECAwQFBgcICQoL/8QAtRAAAgEDAwIEAwUFBAQAAAF9AQIDAAQRBRIhMUEGE1FhByJxFDKBkaEII0KxwRVS0fAkM2JyggkKFhcYGRolJicoKSo0NTY3ODk6Q0RFRkdISUpTVFVWV1hZWmNkZWZnaGlqc3R1dnd4eXqDhIWGh4iJipKTlJWWl5iZmqKjpKWmp6ipqrKztLW2t7i5usLDxMXGx8jJytLT1NXW19jZ2uHi4+Tl5ufo6erx8vP09fb3+Pn6/8QAHwEAAwEBAQEBAQEBAQAAAAAAAAECAwQFBgcICQoL/8QAtREAAgECBAQDBAcFBAQAAQJ3AAECAxEEBSExBhJBUQdhcRMiMoEIFEKRobHBCSMzUvAVYnLRChYkNOEl8RcYGRomJygpKjU2Nzg5OkNERUZHSElKU1RVVldYWVpjZGVmZ2hpanN0dXZ3eHl6goOEhYaHiImKkpOUlZaXmJmaoqOkpaanqKmqsrO0tba3uLm6wsPExcbHyMnK0tPU1dbX2Nna4uPk5ebn6Onq8vP09fb3+Pn6/9oADAMBAAIRAxEAPwD9/KKKKACiiigAooooAKKKKACiiigAooooAKKKKACiignAoAKKZJOsSMzEKq8kk8CvKPib+3D8MvhXqX9n3viSHUdXyVGnaTC+oXW70KQhtp/3iK58RiqNCPNWkorzdjow+FrV5ctGDk/JNnrWaM186yftya54lP8AxSnwj8bahG3SbVjFpC49dsrbvyFQyftK/Ge7/wCPX4V+HbfP/P34kH67ENee88wn2W5ekZNffax6CyHGfaUY+sop/dc+kM0Zr5vj/aV+M1n/AMfXwr8PXH/Xp4lX/wBnQVYj/bl1vw0f+Kr+EnjbT416zaT5WrLj12xNuH4ihZ5hPtNr1jJL77A8hxf2VGXpKLf3XufRFFeTfDH9t/4Z/FbUPsFj4kg0/Vs4OnatE+n3efQJMF3H/dJr1ZJ1kRWU7lboQetejh8VRrx5qMlJeTuefiMLWoS5a0HF+aaH0UZorc5wooooAKKKKACiiigAooooAKKKKACiiigAooooAKKKKACiiigAooooAKKKKACiiigAooooAGOBXjfx3/a5sfhrrX/CM+HNPl8X+NrhR5el2r4S1B4D3EnSNR78n0pv7XXx31L4c6bpPhfwosdx448ZSta6arcpYxgZlu5P9mNemepIHrXN/Br4M6d8HtAaGB5L7Vr5vO1LU5/muL+Y/edm64z0HQCvBzDMKjqPDYZ2a+KXa/Ref4LzPfy/L6aprE4pXT+GO1/NvpG+mmrfVWOXvvgz4s+OEi3XxT8TyXVqx3L4e0R3tNPgHULI4IkmIyQckA13XgT4W+HfhlYfZvD+i6bpEQG0/ZoArN9W6n8TW9t+tKMCvNp4WnGXO1eXd6v73/wx6dTF1JR9mtI9lovuX/Dhgk/eo25paK6DlE24pfmz1oJxRmgDn/Hnwr8N/E2y+z+IND03Vo8YH2iBWdfo33h+BrhbH4NeLvge7XXwt8UTW9qp3N4d1t2u7CYf3Y5D88P4EivWutJtrnqYWnKXOtJd1o/vR008VUjHkesez1X3MrfAX9rix+KGst4a8QabceD/ABvbqTLpV4wK3IHG+3k6SoevHI7ivYh0r5z+M/wX0/4x6CkM0s2n6vYt5+mapbHbdadMOVdG9M9VPBFdR+yR8ctU+Imjal4b8VeXH408Iyra6iUG1L1D/q7lB6OOSOxzXpZfmFRVFhsTq38Mu/k+z/B+R5mYZfTdN4nCqyXxR3tfqn1XTXVPvc9kooor3jwQooooAKKKKACiiigAooooAKKKKACiiigAooooAKKKKACiiigAooooAKKKKACiiigD5b0WT/hOf2zPiPrVz+8Phm3tfD1kG58hSgnlI9NxZM/SvTAMV5paR/8ACvP20/HWjXX7uPxlZ22vaezcC4ZFEM6j3Xahx1wSa9JBya+Ow+809+eV/vf6WPssVa1Pl25I2/8AAV+t7+YrDmvjD41/8Febf4FfEH4heB9W8C3DePfDuqadp/hbRY78eZ4wS+YLFNEdvyhSH38Hbs96+0K+YP2g/wBhG4+MP/BRn4M/GWO38Otpfw606/tr8XO4X0sso/cNGAhVgmW5Zl254zXbT5b+8cVTmt7p6r8bP2s/Av7LfgTR9d+KHiTSfA9vq7pbI15IzR/aTGXMSsqnJAVucDha0fgt+0r4D/aJ+HsnizwV4o0vxD4bhd0k1G2ciCMoMvksBjaOSelc5+13+zJqH7UXg7TdJ0/x54g8Ayafefa2u9JtrSeW5XYy+WwuIpFC/NnIAOVHOOKyPB37G954Y/ZG8Y/C3UPHuv8AiabxZpWoaYdc1C3t4rq1F1A8W4Lbxxp8m/I4B460WjbzFeV/I8jk/wCCuHhv4l/tteFfhr8LdW8M+O9D1Twvr2r6nfWEsk81peWCoYoFVRyHJbOAc44rO/4Jyf8ABRf4hftA+IviY3xY8Kx+B/D/AIPu7h4NTuraS1hihjCEo7uNoKA5O4hvmHHFcL+wl/wS3+MfwG/ar+EfjTxtc/CKPQ/hX4T1XwiieF7e4gvdRimSMW9zOXTbJKxDbxlQmOC5Y4+tP28f2U/+Gwv2PPiH8MNP1KHwzdeNtPe2W/SDcscpZWDOqkFwdoB5zg1rL2a91feZx9o1zP7jofgB+1t8Nf2p7TUJvh3400LxdHpLrHef2fPva3Lbtu5SAQDtbBxg4Nei18Df8Edf+CYnjj9hLx9441zx3b+Dze69p9hp1reaL4g1PUpLpIDNnzkvAFjA3LtEefvMD0FffNZVIxUrRd0aU5ScbyVmB6V5jqNy3w+/bZ+HmqW2UXxlaXeh3qjgTGOPzomPrtw2P9416celeZC0/wCFl/tu+CdPtv3lv4EsbrWL5xyIZZl8mJPqRuP4VxYi96fLvzxt/wCBK/4Xv5HdhbWqc23JO/8A4C7fja3mfUoooor7E+NCiiigAooooAKKKKACiiigAooooAKKKKACiiigAooooAKKKKACiiigAooooAKKKKAPI/2sPgDc/GPw5p2qaBPHp/jbwnc/b9EuyPlZ8YeCT1jkXgj1we1cP8GPjda/FGG5sLy3bR/FejnytV0if5ZrVx1YD+KM9Qw4r6UIryz49fsp6H8ary31iGe58PeLLFcWetWB8u4THRH7SJ/stkV4eYZdP2jxOG+J/FHZSt1v0ktuzWj7nu5fmVP2aw2K+FfDLrG/RrrF/enquqcW6mlcmvLNY8XfEn9nmVY/HXhybxd4fXhfEPhm2aWSFexuLX769MlkyOfwro/AXx/8GfEuPOjeItNuJR963kl8i4T2aKTDj8RXlxxUOb2c/dl2ej/4Pqro9WWEqcvtIe9HvHVf8D0dmdlQRmmpKsq5Vgw9Qc0pbFdByhtoC0Bs+tI8qxrlmVR6scUALjFLmuL8e/tBeC/hov8AxOfEWm28zfdt4pPtFxJ7LFHudvwFc7o3ir4lftDv5fgfw7J4P8PtwfEHiW3Mcsw9be1+8fZnwP5VzyxUOb2cPel2Wr/4Hq7I6o4Opy+0n7se8tF/wfRXZtfGn42w/C+K10+xtZNb8Wa03laTo9v8010543N/djHUseOK7v8AZS+A158H/DF9qOvzw33jLxNP9t1i5jHyqx+7Ah/uIOB+dTfAX9lTQ/gjc3GrPNeeIPFeoLi91vUW8y5lB/gTtHGOyrgV6nXqZfl1RT+s4n4ukekfNvq39yWi6s8rMMypun9Ww3w/ak95W2SXSK7bt6vsiiiivcPCCiiigAooooAKKKKACiiigAooooAKKKKACiiigAooooAKKKKACiiigAooooAKKKKACqutC4bSbkWckMN35TeS8ylo0fB2lgCCVz156UazrVr4e0ye8vrmC0tLZDJLNK4RI1HJJJ44rznGrftBDLLdaH4KkIIU5ivdZX37xwt/30w9Aa569bl9yOsnsl+fkvM6KNFy9+WkVu/0835H51/F79t39ovxT8ev+Ffx65DpWoXmo/2fajQ4BHFc5kMYkjkJZmU4PIbHFfoUP2NfBHifwPpNh4r0TT/EWrWNskc2rzx4vZ5cfNIZVw+Sc966TUf2ePCGpeOvDfiRtFs01bwpG8OmzRoF+zowIK4HUDJI9Cc12wGBXgZVkNSjOrLHT9rzPTm1svR6Xv8AkfRZvxDTrwoxwFNUeVe9y6Ny73WtrfmzwG8/4J8aDYNu8OeMPiF4WIOVjs9aaSEf8AlDce2apyfsUeMbU/6D8avFkfp9p0+3uf54r6Kor0ZZHgntC3o2vyaPMjnuOW87+qi/zTPnWL9ifxjdf8f3xq8Wy+v2bT7e3/lmsn4nfsY6J4B+HOseItd174k/EBtHtnvJNPm1wwrOiDLKixhADtycE84r6gpk0C3ETJIoeNgQysMhh3BFTPIsG4tRjr0u3Kz9G2XHP8YpJylpfWyUb/OKTPif9l39s79l+xuYV0fSbHwfrMzBS2o2O64Z8nA847iT+PevtWyuY761jmiYSRzKHRh/EDyDXwT8IP8AgkndfDr49eJPF8n9mX1noup/avDOmXeZIL2M/OfO7grnap/vLuII4P2z8PPiFZ+OtOm8pGs9QsGEN9p82FnsZMZ2svoRyp6MMEV5/DdTGRpunjoRg7+6oq17bvt+ttT0OKKeAdVVcvqSqKy5nJ3s3su/rfrodHRRRX1B8qFFFFABRRRQAUUUUAFFFFABRRRQAUUUUAFFFFABRRRQAUUUUAFFFFABRRRQAUUUZ4oAM4rB8efELTvh7pi3F9JIzytst7aFTJPdOeiRoOWJrO8e/FOPw9fro+lW7az4luU3w2ETf6lTwJJm/wCWcfueTg4BNReAfhXJpOof23r90Na8Szj57gjENmD/AMsoE/hQdMn5j1JrlqVpSfs6O/V9F/m/L7zqp0Yxj7Stt0XV/wCS8/uM/R/h9qHxI1SHWPGMfl28LCWy0ENvgtj1V5+0so645VT0yRmvQwoUUoorSjRjTWmre76szrVpVHrstl0QUUUVsYhRRRQAUUUUAJtFcf8AEH4Yvrl/Hrei3K6T4mtE2xXQH7u6Qc+TOB9+PP4rnIrsaKzqU41I8sjSnUlTlzROT+G/xNXxiZtPv7Z9J8RaeAL7TpGy0fo8bdHjbqGH44PFdZmuX+Ivwzh8cRw3VvcTaXrlhlrHUYMeZbt6EHh4z/EjZBFU/AHxIn1HVG0HxBDDpvia1Te8SEiC+QcGaAtyyeqnlc4OepxhUlCXs6vyffyfn+fTsbTpxnH2lL5rt6d1+XXudpRQGzRXUcoUUUUAFFFFABRRRQAUUUUAFFFFABRRRQAUUUUAFFFFABQTiob2+h062kmnljhhiG53kYKqgdyTXh/jP9vjwzZatNpXg/S9e+I2rQko6aDAJLSF/SS4YhF98biPSuXFY2hh1etJL836LdnVhcDXxLtRi3bfsvV7L5nupbBo3f5zXzFJ8Qvj18RC0g/4Qn4e2cv3Igsmq3yD/bJ2xhv93IqpL8GfHWuN5mr/ABg8YTSN1SzigtYl+gVM/ma8yWeJ/wAKlJ+btH83f8D1I5Hb+LWjHyV5fkmvxPqgnArz7X/iLqPjHXJtC8H+VJNbtsv9WkXda2B7qv8Az0k/2RwO5rxG4/Zcmv4mW6+IfxFmZgQSNYZOD7AYqHQf2YNW8F6bHZ6D8TvHOkW9v/q40nikVO/RkOfx61zVc2xM7JUml1tJX+W1vU6KWU4aOrrJvpeLt897+n/DH0t8P/hzp/w90+WO1Elxd3j+deXtwd9zeyf3pH6nHQDoowAAK6ADFfL0EXxx8FL/AMSvx54e8Txx9INe0vyWk+ssJyPwWtPSf25dc8B/ufiZ8O9c0RE4fV9EH9qaYB3ZsYljX6qTXVRznDQShUi6a81p96uvvZz1slxM2505RqPyev3OzfyTPo6iuf8Ah38VfDvxa8Px6p4b1rT9ZsZB/rbWYSBfYjqp9jiugr2qdSM480HdPqjw6lOUJOM1ZrowoooqiQooooAKKKKACiiigArn/iD8OrH4h6VHDdNLb3VpJ59le252XFlKOjo3b0I6MCQQQas+NfHmjfDnQJtU17VLHSNOtxmS4uplijX8Sf0rwbXP20vEnxPumtfhP4Q/tWzB2t4h19nstLPvEqgyy/UACvPx2Ow1FezrO7f2Vq38lr8z0cDgcVWftKKsl9p6JfN6fLr2PU/BfxEv9F1+Lw14sWODV5QfsN6g22urov8AdP8ADKOpjPODkZFdnfa3Z6Wm66urW2XsZZVT+Zr5U8R/A3xx8Y4Y28efEbUZFSQTJYaFAtlbW7jkFXwZCR0DZH0pdK/Yr8DpGratBqXiK8x81zqV/LK7/UbsfpXk082xPwwpXXRykk7eaSl/W569TKcK/enVs+qjFtfK/L/W2h9JXXxc8K2LbZvEvh+I+j6jCv8ANqsWfxI8Paj/AMe+u6NP6eXfRNn8mr58t/2SfhtbD/kTdDk/66Qb/wCdQXn7H3w1uuvhPTY8/wDPINH/AOgkVX9qY3+SH/gT/wDkTP8AsvA/8/J/+Ar/AOSPqCK4WdQ0bK6kZBVs0/dzXycn7Imh6A+/w3rnizwu45UWGqy7B/wFiQavWt58bvhQN2j+I9D+IVhHz9j1+M2d5j0WeIbWb/eUD3raGdTj/GpO3eL5vw0f3Jmcslpy/gVk/KScfx1X3tH1JRXiPwv/AG4/DvinWotB8VWeofD/AMUuQg0/WlEcdy3/AEwnB2Sr09Dz0r2yOTzFVlIZW5BHcV6uFxlHER5qMr/p6rdfM8jFYOth5claLX5P0ezXoOooorpOYKKKKACiiigAooooACcVxHx4+POh/s/+DG1bWJJJJJn8iysoF33N/MfuxRr1LH9K7O6nW2t3kkYLHGCzMewHU18l/DK5b9pX4s6l8TtTQyaTp9xLpvhW2fmOKGNisl0B03SMDg+leVmmOlRjGlS+OW3klu36fm0etleBhXlKrW+CFr923sl69+iTFl+HXir9pnUV1n4nXl1p+hth7HwhYXDRW8S5yGupFIaV8HBXIUfz9P8ADvhvT/CWlR2Ol2Nrp9nCu1IbaIRov4Cr60pOK8Slh4wbm9ZPdvVv+uy0ParYmU4qC0itorRL5fq7vzE20bahbUrdL5bVpoRcyKXWLeN7KOpA64HrUxbFdBzi7c0YpM0bqAFxTXXcNrAMrcEEcEVC+qW8d9HatNCtzIpZIi43sB1IHUgVYBzQB5f42/ZosZ9ZfxD4M1C68DeLkO9L/TTtguD/AHZ4P9XIp78Z967b9n39qe88ReLD4H8eWUOheNoELwNGT9j1qMf8tYGPfuU6itlhxXEfHX4Rx/Fjwjst5PsPiDS3F7o+oJ8slncpypB/unGCOhBrmip4aXtsL849JfLo+zXzudUpQxUVRxXopdY/5x7p/KzPpAHIorzX9k/43N8e/gvp+sXUItdatXfTdYte9tewnbKv4nDDPZhXpVfV4evCtTjVhtJXR8niKE6NWVGpvF2fyCiiitjEKKKKADNcD+0L8fdL/Z/8FLqV5HLfX95J9l03ToOZ9QuD92NB/M9hXeucLXyh4VkPx9/aP8SeNr8mbS/Cdw+geHoG5SIp/wAfE4H95mwAfQV5ea4ydGChS+ObsvLu/kvxsetlOChWnKpW+CCu/Psvm9/K43wz8GdY+K/iGLxh8VriPWNX3ebp+hof+JXoaHooTpJL6u2ec47Y9XhhSGJUjVY41GFVRtUD2FOXrSk4FeLRoRp7at7t7t+bPZrYidRq+iWyWiS7JBtoximlsCl3VsYC0EZqvqWqW+jadPeXlxDa2lrG0s00ziOOJFGSzMeAAOSTVPwf400j4heGrPWtA1TTtb0fUIxNa31hcpcW1yh/iSRCVYe4JFAGptpNtG6lBoAxfG3gDRfiRoUum67ptrqdnMMGOZASvup6qfcEGvPfCvxB179ifV7e11a81DxF8K7mRYoru4YzXnhok4Akbq8H+0eVr1yqur6Ra69plxY3sEd1Z3kbQzRSLuWRGGCCPeuepRfN7Wi+Wa2f6Puv6Wp0U6y5fY1lzQe6/Vdn5/foetaZqMGr2EN1ayxz29wgkjkRtyupGQQasV88/sMeJrrwnf8Ai74W6hPLcS+BriKXTJZDlptOuQXhGe5jIZD6DbX0MDmvpMDiliaEatrN7rs1o19583mGEeGryo3uls+6aun80wooorsOMKKKKACiiigDif2ktSudI+AHjK6s9wuoNHuXi2nncI2xivJ/2bdOt9K+APg2C12/Z10i3ddvTLIGb/x4mvoLxDo8PiHQrywuVDW95C0EgIzlWBB/nXyv+y7d3XgW01b4Z60zLrXge4aGAv1vLB2LQTD1+U7T6EYr5vNU44ynN7Si4r1unb5r8j6TKWp4OpTjvGSk/SzV/k/zPXK4f9pf4vN8AP2e/G3jhbFtSfwnot1qq2oO37QYYmcJnsCRgnsM12ynAqHVdKttc0y4s7y3hurS6jaGaGVAySowwysDwQQcEGojvqaPY/Kf9h39ob4iftPf8FYPgr4w+IWpfDm8n8RfB/VNY0y18J3Ekn9m21zPbSrb3YcnE6ZwSvB54GK9e/bl/wCCg3xI+BX7T174X8P/ABO+DfhvSYFgKafr/hfWL7UE3jJ3S26mI57Y6d6+qPgv+wl8H/2d/Faa74H+HPhXwvrEaTRLeafYrDMqTFTKoYc7W2rkdOBXp114d0++uPOmsLKaX+/JArN+ZFbyqxcrpaWMI058tm9T5U/4Kffty+Iv2OP2aPC/iDw3qnhW38SeJLyC0gfU9Nur2G5Zo97+Tbw4kZsZIBIwOtfLPjH/AILYfGPxJ/wSUvvixoXw8vD4qS/m0268SaRHF/ZWiNBqEMHmTW9w3mDzlYqEAYqzjPSv0n+OH7OPgX9pTwnDofjzwto/irSLeZbiK11C3EscUi9GXPQj1FJ8Pv2bfAPws+HNx4P8P+EdA0vwvdTtczaVDZp9lllZgxdoyMEllBye4BpRqQUbNa3HKnNvR6WPzH/al/ad+KXiT/gop8BvF+i+HNB+EfjebwF4ljSx+I96gtoY08kmQ/Z2IYyquUUMPvDOMV99/wDBNz9qvUv21P2NfBvxG1rS7XSdX1uGRLyC1YtbNLFK0bPCTyY225B9+/Wum+Of7GHwr/aY1S0vfH3gPw34svLC1extptRs1meCB2RnjUn7qsyISB12iu58EeB9H+GvhLT9B0DTbPR9F0qFbezsrSIRQ20Y6KqjgAUqlSMopJahTpyUm29DVpGpc1ifEXx5p/wy8Falr2qS+VY6bC0rnux7KPUk4A+tc8pRjFylsjohFykoxWrMr9in/Qfix8bLG3/48Y/E8VyoH3fOltIml/Hd1r6IrxX9hT4b6p4N+EF1rXiCFrfxF471KbxHfwsObUz7fLh/4BGqjHYkivaq9bJacoYOCkrXu7drttL7meVndSM8bPld7WV+7SSb+bQUUUV6h5QUUUUARXoLWcwX7xQgflXyr+xxiP4T3cLf8fVvreoR3OevmfaHPP4EV9XN92vlLxFbt+zD+0xqFreL5Xg34lXP2vT7rpHZaljEkDenmcMCepzXz+dRcJ0sQ/hV0/LmtZ/erfM+hyOXPTq4dfE7SXny3uvud/kerUHpTQcU7rXObn5Ff8FLv+Ct3x0+Bn/BRHxD8PfBt5Z+G9B8J2+lSadaXlnZfZ/ErXBLTNNPcyJIq87V+zhiNhzgmvtX/gor8WfGHgH4BeGdU8NeKfHngnVr66T7VN4T8Dx+LrhsxBjG8DMoRAx++DyeK958a/BPwb8SdRt7zxF4T8Oa7eWoAhn1DToriSIA5G1nUkYPpXTxD7OuI8xgDAC8YFbOpHSy2MY05a3e58h/s3fEXxN8Tf8Agn58QtQ8WeKPG3i3Uls9SiW98U+DE8KXqoLfhBaozAoMnD55yfSvhr/gmP8Ats/FrwLafA/wL4F8eeEfi7D4k8MXom8CCxTTT4UktwWgM94NzhZCSCzjHoCK/Z28to9Rt5IbhVnimUo6SDcrqeCCD1Fc/wCFvg54R8DavJqGi+F/D+kX8sYie5stPigldB0Usqg4HpTjWSTTW4SpNtNPY+Af2rf26fj34M+J/wALvBHjjX/AP7Ls/irT9T1XUdeWRPEtgXtpEW3slllWNA0oYsRjcAOMmv0E+F+sTeIPhzod9c31rqlxeWMMst5bRmOG6YoCZEU8qrdQD0Bp/jT4a+HfiRbQQ+ItB0fXobV/NhTULOO5WJv7yhwcH3FbFvbx2cCRQxrHHGoVEUbVUDgAColJNKyKjFpttj6RqXdWL4/8e6X8MvB1/r2tXC2um6dGZJXPU+iqO7E4AA6k1jKSinKTskbQjKUlGKu2ct8HB9r/AOChviOS2/1Nn4HtoLzHaZ7svHn38sH8K+m1PFeF/sQfDjUtO8O65458Q2zWviL4gXa38sDfetLVF2W0B/3UyT7ua90AxXp5JSlHC88tOZuVuyb0/Cx5ueVIyxXLF3UEo37tLX8b28gooor1zxwooooAKKKKACvG/wBp39mq5+Jt1Y+KvCt5HovjzQFP2G7cZhvI+rW047xt69jzXslBGa58VhaeIpulVWj+9eafRrodGFxVTDVVVpPVfc11TXVPqfMPwu/aCtfFWrSeHfElnJ4U8bWPy3WlXrbPOIOPMgc8Sxk9Ctei5x610vxe/Z/8KfHPS1tvEmk2940X+ouV/d3NsfVJF+ZTz2NeL6n+zt8WPgvI3/CE+ItP8caDHzHo/iImG8hH92O7B+b23rx3Jr52rhsXh9JL2ke63+cevqr+h9JSxWExOsZezl2l8Pyl09H956IG5oryA/tWv4UuZrXxl4I8WeGb2zYJcfZrY6vbxtj/AJ624b68qOK1dH/bB+GutD5PFum28gODHdB7eRT7q6giuWOPw70c0n2ej+52Z0yy7ErVQbXdar71dHpVFchb/H7wPdRb4/GHhsr738Y/maz9S/am+HekIzXHjLQVC9dtwH/9BzWn1ygtXNfejNYPEPRQl9zO/JxSbq8l/wCGyvCury+V4fsfFPim4bhF0zRbh439P3jKqfm1XbTSPjj8XiE07QdF+GOlzcG91addT1Daf4lgjIRGx2ZuKmOMhPSgnN/3Vf8AHZfNlywU4a12oL+87fhu/kjrPiN8UtB+E+hSahr2owWMKj5EY5lnPZUQcsx9AK5X4XfBzX/2o/Fun+LPG+nzaL4L0qYXWieHp1xNfSKcpc3I7AdVQ/U16D8J/wBirwt8PtYj1zV5b3xl4oHzHVdZfznRvWOP7kY9Ao/GvYguK9DD5VUrSU8XpFa8q1u/7z6+i07tnn4jNqVGLhg7uT0c3pb/AArp6vXskJGuxadRRX0R82FFFFABRRRQAVzfxZ+FOifGrwJfeHfEFmt5pt8uGXOGjYcq6HqrKeQR0rpKKipTjOLhNXT3RdOpKnJTg7Napo+R73V/F/7IVxHpvjaO88UeCg3l2Pie1hMk9kn8KXka5PHTzBwepr0zwn4y0nx1pEd9o2o2eqWcgyJbaUSL+OOn417RcW0d3A0csaSRyDayOoZWHoQa+BP24vit8Ff2e/HF9Dotx4t8OePofmkg8OI1rbyMRkGUSL5LA+qgmvksypf2bT9tzr2faTs15J9fJPXzPr8sqPNKvsVTfte8VdPza6ebWnkfU26jdXzN+yV8Ufj58YPg7b+L4fDvhvxdpN1cSwW0Et6um6g6xkDeXK+WwJyM4ByuelejXHx+8UeGH8vxJ8JvG2lyjq1kYdTh/B4myf8AvmuejmMKlKNVxlFS1TcXb70mvxOjEZZUp1ZUVKMpRdmlJX08m0/wPVAaCcV5G/7Yvh+yO288P+PrNv7reGbyT/0BDTk/a10++H+geD/iHfem3QJ48/8AfYWtP7Qw/wDMjL+zsT1gz1rdQDk8CvL4fiR8VPFy/wDFOfBzUo42+7c67rNvYBB6mIbmP0BrS0v9l/4p/E4+Z428fW3huwk66T4WtdjgejXUhLH8FHsa0hWqVNKNOUvlyr75W/C5nKjTp616sY/Pmf3Rv+NiX4oftBeG/hVi1urmTUdam4ttI09PtF7ct2AjXJHUcnAqD4X/ALOHiD45eLtN8YfFC0jsdO02RbrRvCu/zEtZOqzXJHDyDsvRTXrHwe/Zk8G/A+EtoWkxC+l5m1C5Y3F5OeeWlbLHr6134XBr0MPlE5yU8Y00tora/m+v4L1PPxGcQpxcMEmm95Pe3kto+ur80CLsGKWiivoD54KKKKACiiigAooooAKKKKACvlf/AIKaftS/EH9nr4ebfBfhu9kjvoys/iBVEsWm54+5z83oSMV9UV5z8QLaP4k/ErS/DXyzafpO3VdUQjcrEHEETD/aOWx6KK83NqVWrhpUqM3CUtE1vr/WvWx6mT1qVLFRrVqanGOrT20/rTpc+bf+CJHiW+8XfBfxpealeXF/fXGu+dPPPIXkldolJLE8kmu8/wCCnmt3Xwh+AcfjLQdJ0S61DSNSgFwl9p8dzDPbvuV0cMOmdvIIINe9eA/hV4d+GU+pN4f0ex0f+1phc3aWsYjSWTGNxUcZxWP+0h8DrH9o74P6t4P1G4ls7PVlRXmiALx7XDAj34rzYZRWpZP9SUr1FFpPz1aep6lTOaFbOvr7jy03JNx8tE1pufKX7EP7Snwh/bC1yPQ9U+EHhnTfFMcfmM0ehwXFq+Mktv2fJ0/i6k19e6V8DPBehMrWXhLw3ZsnKmHTYU2/TC15V8LfgJ4d/YTurQeHbUw+E9Y8qz1WaX95NbXI+WK4Z+Ttcnaw+6p2txzXvwYNW2S4SpCh7PGqLqre0UvT19dPwMc+xlKeIdTAOUaT2Tk36+npqMgtY7WLZEixoOiqMAU8Lilor3krbHzt29WFFFFABRRRQAUUUUAFFFFABRRVbVtUt9F0+a7u54ra1tkMkssjbVjUDJJPtQ2krsaTbshniDxBZ+F9HuNQ1C4hs7O0jMk00rbVRR3Jr5h/aX/Ytg/b60C41nU1Ph27toSnh6TyQszL133HGdr8YXqo56163o2mXHx61m11rU7ea18KWUvm6VYTDDakw+7dTL2XukbDOMMwBO0enKuFry8RhaePg6ddXpvp38/Ly+89TDYyrl1RVMPK1Vde3l5vv9xxP7Ovwih+BXwS8M+E4Sr/ANi2EdvI69JJAo3t+Jya+Kv+Ck37dOufs9/tleEY/D90zQeG7QS6lZb/AN3drMfmjYeu0ZB7HFfoYRmvnP8Aac/Y2+HuoLq/j688N2uqeIFvbS9u5rtmlRoVljWUbCdoUQ7zjHavPz7A4mWAVHAS5OVp310UddPuR6XDuYYaOYuvmMXPmTVtNXLTW+27PXPgb8aNF/aB+GOl+KvD9wLjT9ThEmM/PC+PmjYdmU8EV1+361keCfB2i+CNDjs9B02x0vT/AL6QWsIijGcc4HHpWxXv0PaKnFVWnK2rW1/I+exDpupJ0U1G+ie6XmJtpcYoorUxCiiigAooooAKKKKACiiigAooooAKKKD0oAz/ABP4ht/Cug3mo3TbLeyhaZyfQDNcx8D/AAxNpvhyfV79f+Jx4knOoXbEfMoPEUf0SPAx65ql8VVb4heNtI8Gw5+yZXVtYYHgW0b4SH6yyDH+5HJ7V6Gq7RxxXJH95WcukdF69fuWn3nVL93RUestX6Lb73r9wtFFFdZylXW9FtvEOlXFjeQR3FpdxmKaJxlXUjBBrh/hbqd14J1yTwXqs7TNaoZdHuXPzXVoOBGSerx8KT1Iwa9CrmPij8P/APhOtDiNvMbPWNMlF3pt4v3radc4z6owJVl6FSfauevTldVYbr8V2/y8zpoVFZ0qnwv8H0f+fl8jpwciiua+F3jxfHfh9pJofsmp2EzWeo2hPzWtwv3l+hGGU91YHvXSitadSM4qUdmY1KcoScJboKKKKsgKKKKACiiigAoopssqwozMQqqMkk8CgCO8vorG0kmmkWKGFS7u5wqgckk15xp9tcfHzWFvLqN4PBdlJutbZ1w2sSA8Sv6RD+Ff4jyeOKiUSftH6pG6vIngG0kyMZX/AISGRTx7/Z1ZfpJ7r19QggW2iWONVVEAVVAwAB6Vxf7w7/Y/9K/4H5+m/b/u6t9v/wBJ/wCD+XrsRII0CgAAcADtTqKK7TiCsnx54eTxb4J1jS5MbNSsprVs+jxsv9a1qbIMiplFSTiyoycWpI5n4LeIG8TfCfw9ey58+awh84HqsgQBgfowIrqK4P4Ct9h0zXtK5A0fW7u3QH+4z+ap+n7yu8rHCyboxvvb8tDbFRSrSS2v+D1Ciiiug5wooooAKKKKACiiigAooooAKKKKACqus6rb6HpdxeXUqQWtrE000jnCoijJJ+gFWq87+MsR8e6xpPgyN8QalILvVQveziYEx/8AbRwqn1XcO9Y4io4QbW/T1exth6anNRe279FuWPgbpEt1pd/4nvI3W+8Vz/bQr/ehtwAsEfthMHHq5rvKZbxLBCqIoVVG1QOwHQU+nRpqnBR/q/Vk1qntJuf9W6L7gooorUzCg0UUAed/E/SLjwF4jXxvpMUkhjRYNbtI+ft1qPuyAf8APSLJIPUqWU54x3Wjatb67pVveWkyXFrdRiWKRDlXUjIIqxLGsqMrAMrDBBHUV5r4bT/hSPjtdDdpP+EZ8QTNLpbOfl0+5OWe2B/uNyyDsdwrjl+5qc32Zb+T7+j6+fqzsj++p8v2o7ea7eq6eWnRHplFA6UV2HGFFFFABRRTWPFABJIIlLMwVVGSSeleY31xJ+0PqM9jD5kfgm1cx3U4JX+2nH3ol7+SOjH+Lp0zTtY1S8+O2uyaTpcrW/g+ykK6nqEbYbVHU/8AHtCe0YIIeQdfur1JHo+m6bBo9hDa2sUcFvboI440GFRR0AFcT/2h2XwL/wAm/wCB+fpv2L/Z1d/G/wDyXz9fy9dn2trHZW8cMMaxxxKERVGAoHAAHpUlFFdpxhRRRQAUHkUUUAcH4RP9i/HTxZp/3V1C0s9WQepbfA2P+/Kk/wC9713lef8Ajc/2B8efBmof8s9YgvNCk9CxQXcZP0FtKB/10PrXoFcuG0c4dm/x1/U6sVryT7xX4afoFFFFdRyhRRRQAUUUUAFFFFABRRRQAUUZrN1/xZpnhazafVNRsdPhXq9zOsS/mxFTKSirydkVGLk7RV2Xb28j0+zknmdY4YVLu7HhVAySa4T4J2M3iWbU/GN4jLN4hkAskccw2SEiL/vvl/8AgQrzn4/ftifDPUNHtPDq/EDw1DHrVyLa+nS+Ui2thlpSSDwWA2j3au68I/tX/CvW1t7PSfHfhObaqxxRx6hGMADAAyRXl/X8LUr29pH3fNbv59F+Z6n9n4qnQ5vZy97+69Evl1f5eZ6YKKr2Op2+qWyzWs8NxC4yskTh1P4irAORXqppq6PJaadmFFFFMAooooAKx/HPgyz8f+GbrS75X8m4Aw8bbZIHBykiN/C6sAwPqK2KKmUVJOMtmVGTi1KO6OL+E3i6+uluvD+vOreItD2rPIq7Vvoj9y4UejYwR2YEV2lcZ8VvBd1qP2XxBomI/EmhhntcnC3kZ+/bSeqPj6qwUjkVzXiH9tb4deEPD1peap4itbW7ul40xczX6uOGj8lMvuBBHTtXEsTDDpwxEkktm3a6+fVbP7+p3fVZ4hqeHi23ukr2fy6PdfNdD1iivni7/byvtbP/ABS3wl+ImtQ9rm7t4tNgk/3TI5Y/ioqsv7ZHxLhfdcfAzVFgPQw+IraWT/vjaP51zvPcGtpN+kZNfelY6FkON6xS9ZRT+5yufR5bArzfxJrN18ZtYu/D2j3U1rodq/k6vqUDYaY/xW0LdiRwzDleQOeR4t4r/wCCgdr4nnXQ9V8N+OPh9aRzGDXNTu9P86O1XaD5UUkJcZYMMuwUKM98V9AfBfxp4L8UeDrZPBGqaPqGkWyBUFjOsgTv8wHOTyTnnOaVLMcPjZ+yozVlv0b8rb27v5dx1stxGCh7WtB36dUvO60v2Xz7HTaFodr4c0m3sbG3htbO1QRwxRLtWNR0AFXKAc0V68UkrI8Ztt3YUUUUwCignFeYfGz9rbwj8D7uPT7ua61rxDcf8e+iaRF9q1Cb/gAICj3YgVjiMRSow56slFeZth8PVrz9nRi5Psj08nikLYr5juPjH8c/ihK0ml6L4U+HOlSf6s6oz6lqmP7xjTbEvGPlJyDVZ/hn8UNUO69+NHiKFjyRYaZawKD7BlbivJlnkH/Cpyku9kv/AEpp/gexHIZL+LVhF9rt/wDpKa/E9p/aAAsPCuna138P6ta35PogkCSfnG7j8a71elfJfiX4QfFHVPD11p8Xxg1C9hukKNHqej28yuPfYEP4itjSf2k/i18H0RfGfgrT/GGjQoFbUfCkrG8jA43PbTY3HudjfnWNPOYRquVanKMWlrZNX135W+ltTapks50oxo1Izkr6XadnbbmS63PpyiuK+DX7QfhP49aM154a1aC8MPFxatmO6s2/uyxNhkb2IrtQc171GtTqwU6bTT6o+frUalKbp1U010egUUUVoZhRRRQAUUUUAGazfFnizTfBHh661bVry30/TrGMyz3EzhUjUdya0W+7Xyz8bL9/2nv2hp/B8kjN4H8BiK41aJD8mp37fMkDnuqLhivckV5+ZY36tSvFXlJ2S8/PyW7PQy3A/Watpu0Yq8n5eXm3ovMdrPx8+IX7TUbJ4Dz4H8IyMQviC9gEl/ep03W8LcKpxwz9QelV9G/Y+8Hpc/bfEK6p411ZzmS9167e6Ln2jJ8tR7BeK9RghSCFY40WOONQqqowFA7AVJ0r52WG9q+fEvnl57L0Wy/Puz6SOKdJezwq9nHy3frLd/l2Rgab8L/DWjRKtr4d0O3VRgBLGIYH/fNVNd+Cvg/xNbtFqHhfQblG6h7GPn9K6jd/nNKDurX2FNqzirehisRVTupO/qeSXX7KNt4SuW1D4d+I/EHw/wBT+8Esrlp7GY/9NLeUspHQcYwK6r4fftb658P/ABJYeGvixY2emTXziCy8RWTH+zr5+gVwf9S7eh4967Ejisjx14G0v4keFLzRdYtI7zT76MxyxuOme4PYjqCOhrKNGdB8+EfK+32X6rp6qz9TSVaGIXJjFzLv9pej6+juvQ9ujfeoYHIPIp1eA/sWePNS0i88QfDPxBfTahqXgsxtpt3OczX2mSD9yzH+JkIMZPqte/A5r6jA4qOJoqqtO67NaNfJnzGOwksNWdKTv2fdPVP5oKKKK6jkCkdtoz6c0teJ/t4eOtS8OfBuPQtFuGtNZ8bX0WhW1wpw1ukp/eyDvkR7ulc2MxMcPRlWl9lX9fL5nTg8LLEV40I/advTz+W5xPxD+Ofib9pjxVfeG/h7qT+HvCGmztbar4oiUPPduvDQ2eeODwZO3OPWtT4Yfs++E/hHAf7J0mE30x3XF/cjz7y5c9XeRssSevpW74E8D6f8N/B+n6HpNulvYabCsMSKMZx1J9STySepNbNfLRoyqS9tiPen+C8orp67vqfUyrRhD2GG92H4y85Pq/LZdAxRtqvq+qwaHpdzeXT+XbWcTTzPjOxFBZjgc8AHpXN/BD42eGf2jPhRonjfwbqQ1jwx4itxdafeiGSH7RGSQG2SKrr0PDAGuq3U5etjqHto2jZWjjZXOWUqCG+o715r41/Zk02/1o6/4SvbrwL4sj+aPUdKAjSc/wB2eH7kinvkZr07qKMVjWw9OorTX+a9HujajiKlJ3g/8n6rZ/MyP2bf2mb/AMW+I7jwL44tYNI8eadD5yiI4ttZgHWeAn043L1XPpXt46V8qftV+HJIfBFv4w0tVi8ReBLhdWsZwMPsUjzoiRztdMgjp0r6W8DeKIvGvg3StYgGIdUtIrpB6B0DD+deplOKqNyw1Z3cbNPun3801Z99Gebm+EpxUcTRVlK6a6KStt5NO67ao1aM0UjV7R4Z4l+1h8c9a8M6hpngbwT5R8aeJkZ1uZF3x6PaA4e6cdyOQo7t9K5/4Q/A/R/hDpzmAyanrV4TJqGr3n7y8v5D95mc8gE9FHAFc98HLhvHn7Qvxc8VXmZLq111vDFqG/5YW9mqjavszsWPua9WA4r4/wBp9ZqvEz11aiuyTt97tdv5H2Tj9VorC09NE5Pu2r2fkr2S9X1DbSbcU6vNv2rP2q/CH7G3wguvGvjSbUF0yG4hsre1061N3f6ldTPshtreEEGSV2OFXIye4rpSbdkcrlZXZ6RtpCMVwH7M/wC0Tp/7T/wwh8Uab4d8a+E0a4ltJ9J8WaM+k6tZTRkBklt2JK9RyCQexr0Gk1Z2YXT1PNPi18CpNZ1aHxX4NvP+EY8eaXl7a9t0Cx347wXKdJEYcZPIzkV63+zL8dx8dfATXN1a/wBm69pUxsdXsT/y63K9QP8AZPUH0NZp4rzv4XXDeBP29rrT7UlbPxt4abUbmIH5fPtpVjEmPUqwH4Vlh6n1bExlD4Zu0l0u9n630fdPXZG2Ih9aw0oT+KCvF9bLeN+1tV2a03Z9PDpRRRX1p8iFFFFABRRRQAj/AHa+U/2a/wB34o+KEU3/AB/J4uuTNn720qpjz/wGvq08ivl39orR7j9mv43P8SIYXk8G+Joo7LxIsSknTplOIrwjps52sc8cV4OeRcVTxHSDd/JNWv8AJ7+Vz3sikpOph/tTSt5tO9vmr28z0qhulV9M1K31fT4bq0uIbq1uEEkU0ThkkU9CCOCDVgnIrlTTV0dbTTsz81f+CyX/AAV88efsF/HCx8N+BbrwbdfYfD0ev6npmoaTdXl5Mr3MsQ/eRsscEZCABzuO7dxjGf0K+E/jN/iN8LvDPiGSFbaTXtJtNReFW3LEZoUkKg9wC2M+1cf8a/2LfhN+0f4ktdY8efD3wn4s1Szt2tIbrU9PjuJo4WJJjDMM7SSTjpzXo2iaLaeGtGs9PsbeGzsdPgS2toIl2xwRooVEUdgFAAHYCtJSi4pJamUYyUm29C1QelBPFc58T/ifo/wi8IXWta1dLb2tuPkTI8y4f+GONc/M7HgAd6xnOMIuUnZI3p05TkoQV2zA+H587/goFH9m+7D4LmF7j1N1H5WfwD4/GvpoDFeG/sY/C7WNOttd8eeKrM2HiXxxKk6WT58zS7FFxBbtno+Msw/vE17l0r08lpSjh+eStzNyt5Pb8Ff5nmZ5VjLEKEHfkSjfu1v+OnyCiiivXPHCvn3/AIKCxPonhTwb4sZWax8I+Ire7vSBnyoZAYWc+y78mvoKsnxv4O074g+E9S0PV7ZLzTNWt3tbmF+kiMMH6deD2IrjzDDPEYadGLs2tPVar8Tty7FLD4mFaSuk9fR6P8DzmOdZolkjZWRwGUg5BB6VJXjPhnxRqH7J/iG28B+PriT+wZJDB4a8Tz8W9zF/BbXEhwEmVeBnhgK9jhmWaNWRlkRhlWU5Vh7GvnKNdTvGWkluuqf9bPqfR4jDunaS1i9n0a/rdbpmF8V4mn+GHiSONWd30u5CqBksfKfgV+OH/BFzx98QvCXxL/Zt8I+GfE3xS1XTptCu4/iB4c1zSnttH8OWyoxt3gZkGHMm0dSSGNftawDDnHoQaig063tG3RwwxNjblIwvHpXbTqcsXFo46lPmkpX2Jx0opDwKzPF3jLSfAWg3Gqa1qVnpen2q7pJ7mZY0X8SeT6AcmueUlFc0nZG0YuT5Y7nI/tT+JI/DXwF8SMw3zX1sbC3jAy0s037tFA9SWFe5fBXwxN4M+EXhjSbjIn03S7a2kB7MkSqf5V8//B7wTq/7V/xH0rxrrljdaT8PfDsn2nQNNuozHNrVz0W8mQ9I0xmMZ53Zr6oX7tdWT05VJyxbVk0lHzSd2/RvbyV+pzZzUjTpxwid5Jty8m0kl6pLXzdugUjUtFfQHzx8q2dh/wAKQ/a88XaDdERaX8QmXxDpEjcK91tCXUXoWyA/0NepDpWx+0T+z/pn7Qngkabdzz6bqVnKt3pmp23Fxptwv3ZEP6EdCOK8It/jhrXwLvodB+Llm2lS7/ItfE8MR/sfUvQvJwIZCOSrYGenFfI4im8FUkp/w220+iu7tPtrs9rabn2GHqLHU4yp61IpJx6uysmu+i1W99dj1+vG/wBuP9jfS/23/gtH4T1DW9S8M3enaraa7pWr2EayT6bfWsglhlCN8r7WAO04Br1rStXtddso7qxure8tpgGSaCQSRuDzkEcGrWa2jL7UTnlH7Mjg/wBnT4VeIfg98N49J8VeO9W+I+uNcSXNzreoWkVpLOXx8oii+REXHCjP1rvKCeKyPGHjrRfh9pEmoa7q2n6PZRj5pru4WJf/AB4jJ9hSnNJc0nYqEG2oxV2arnA9hyfavP8A9mSx/wCFvftPeKPHkbb9F8O2Q8N6XKOVuH3b53U9wGAXjuK56DVPFn7Y6Lpng2DU/C3gO6+W/wDE95bmGe/hPVLFG6huQZDjAPHNfTvw0+G+kfCbwVp/h/Q7VbPTdNiEUSL1PqzHuxPJPcmlgaTxdaNVL93F3v8AzPpbyW9+rtYeOrLCUZUm/wB5NWt/Kut/N7W6K9+hvUUUV9UfKBRRRQAUUUUAFVdX0m21zT5rO8t4bq1uUMc0MqB0kU8EEHgg1aopNJqzGm07o+ZvEH7KPjD4FXEl18J9QgvtDaQyt4U1aUrBDk5ItpuTGMknaeKxI/2srPwrcmz8ceGPFHgq+jOJGurF5rP6rPGCpH619adahu7CG/i8ueGOaM/wyKGX8jXhVMkUXfCz5PJq8fktGvRO3ke7TzxyVsXDnf8AMnyy+b1T9Wr+Z84WX7T3w71FQ0fjTw6oPP7y7WM/+PYqDVf2r/hzo8TNJ4u0eYj+G3l89mPoAgOa9u1H4C+CdXYtdeEfDdwzHJMmnRNn/wAdqzo3wd8K+HZVksPDWg2ci9GhsY1I/IVj/ZeN254fc/yv+pt/amB35J/evzt+h84QftA+I/ijO1n8N/Aeva1I3B1LVYjpunwn13SfM45B+Uc13fwn/Y+un8WWPiz4kawvivxFYnzbKzSPZpulP6xxn7zj++3PHFe7RwiJQqqqqvAA4Ap9dWHyWKkp4iTm1stor5f5tnPiM6m4unhoqmnu95P5vb5JeYirtFLRRXtHhhRRRQAUUUUAZPjPwPpHxE8PXGk65ptnqmm3a7Zba5iEkb/ge/uORXguofsWeJPhpK8nwz8bXWn2O7cmia0pvbNB/djfO+NfbkCvpCiuHF5dQxL5qi1WzWjXzWv6Hdg8yxGGuqT0e6aTT+T0+e58t3OsfGzwcfL1L4aabryr0uNG1dfn/wC2cgBH51XT4vfEq4by4fgn4sWUcFpry3SP892a+rMZo6157yR392tK3pF/jynorPI/aoQv6zX4cx8v2ehfHbx/8sHh3wr4HtpOlxfXxvp1Hr5aAAH2JxXT+Bf2FtL/AOEhg1zx9rF98QdYtiHhS+QJp9q/qlsPkz7tk17zRW1LJcPGSlVbm1/M9PuVl+BhVzzESi40kqaf8q1+93l+I2GFYY1VVVVUYUAYAHtTqKK9g8cKKKKACqWv+HbHxVpU1hqVlaahY3C7Zbe5hWWKQehVgQfxq7RScU1ZjjJp3R4Prn/BPnwbHfTXXhW/8SeBp5iXMejag8dru658hsx5/DtWY37IfxGseLH4w3e0dPteiwzHHudw5r6LorypZJg27qHL/hbj+TR6sc8xqVnPm/xJS/8ASkz51j/Y28c6qdmrfGDWmhb74sNNhtWI9A3zYrofBX7Bfw/8M6xHqeqWd94w1SPlLnxDdNqHln/ZR8ov4CvaaKqnkuDg+bku/NuX/pTYVM7xs4uPPZP+VKP/AKSkMghW3iWNEVEUYCqMBR6AU+iivUPJCiiigAooooAKKKKAP//Z)"
      ]
    },
    {
      "cell_type": "markdown",
      "metadata": {
        "id": "AwCiDRncfsaI"
      },
      "source": [
        "Donde a=1, b=2 y c=3\n",
        "\n",
        "1. Realizar el paso forward y calcular Y.\n",
        "\n",
        "2. Realizar el paso backward y calcular el backpropagation para a,b y c:\n",
        "  \n",
        "    a. En forma analítica (dy/dx = 0)\n",
        "  \n",
        "    b. Aplicando regla de la cadena\n",
        "\n",
        "    c. Utilizando pytorch\n",
        "\n",
        "3. Comparar los resultados del punto 2"
      ]
    },
    {
      "cell_type": "code",
      "execution_count": null,
      "metadata": {
        "id": "jPq335bsmdJ6"
      },
      "outputs": [],
      "source": [
        "import torch\n",
        "import torch.nn as nn\n",
        "import torch.optim as optim\n",
        "import numpy as np\n"
      ]
    },
    {
      "cell_type": "markdown",
      "metadata": {
        "id": "Zna3AOiymdJ9"
      },
      "source": [
        " #### Calculo Y con el paso fordward"
      ]
    },
    {
      "cell_type": "code",
      "execution_count": null,
      "metadata": {
        "colab": {
          "base_uri": "https://localhost:8080/"
        },
        "id": "v3-XmL0FmdJ-",
        "outputId": "ee963ce1-88eb-4a68-8bb1-2dd004302aec"
      },
      "outputs": [
        {
          "output_type": "stream",
          "name": "stdout",
          "text": [
            "-3\n"
          ]
        }
      ],
      "source": [
        "a=1\n",
        "b=2\n",
        "c=3\n",
        "d=a+b\n",
        "e=b-c\n",
        "y=d*e\n",
        "print(y)"
      ]
    },
    {
      "cell_type": "markdown",
      "metadata": {
        "id": "Os_brvs0mdKC"
      },
      "source": [
        " #### a) Calculo backpropagation en forma analítica"
      ]
    },
    {
      "cell_type": "markdown",
      "metadata": {
        "id": "S18BU2f6mdKD"
      },
      "source": [
        "y=d * e\n",
        "\n",
        "y= (a+b)*(b-c)\n",
        "\n",
        "y= a * b - a * c + b**2 - b * c\n",
        "\n",
        "dy/da = b-c = 2-3 = -1\n",
        "\n",
        "dy/db = a + 2b -c = 1 + 2 * 2 -3 = 2\n",
        "\n",
        "dy/dc= -a-b= -1-2 = -3"
      ]
    },
    {
      "cell_type": "markdown",
      "metadata": {
        "id": "3ijka57rmdKD"
      },
      "source": [
        " #### b) Calculo backpropagation aplicando regla de la cadena"
      ]
    },
    {
      "cell_type": "markdown",
      "source": [
        "dy/da=dy/dy * dy/dd * d/da = 1 * e * 1 = e\n",
        "\n",
        "dy/da = e = b-c = -1\n",
        "\n",
        "dy/db=dy/dy * dy/dd * dd/db + dy/dy * dy/de * de/db = 1 * e * 1 + 1 * d * 1 = e+d\n",
        "\n",
        "dy/db = e+d = b-c + a+b = a+2*b-c = 2\n",
        "\n",
        "dy/dc=dy/dy * dy/de * de/dc = 1 * d - 1 = -d\n",
        "\n",
        "dy/dc = -d = -b-a = -3\n"
      ],
      "metadata": {
        "id": "2U1BqilxNxrI"
      }
    },
    {
      "cell_type": "markdown",
      "metadata": {
        "id": "IF2dOgSymdKF"
      },
      "source": [
        " #### c) Calculo backpropagation con pytorch"
      ]
    },
    {
      "cell_type": "code",
      "execution_count": 125,
      "metadata": {
        "id": "Wdeqg0himdKG",
        "colab": {
          "base_uri": "https://localhost:8080/"
        },
        "outputId": "ae44c51f-3530-4590-e267-945729cf5163"
      },
      "outputs": [
        {
          "output_type": "stream",
          "name": "stdout",
          "text": [
            "Gradiente de a: tensor(-1.)\n",
            "Gradiente de b: tensor(2.)\n",
            "Gradiente de c: tensor(-3.)\n"
          ]
        }
      ],
      "source": [
        "a = torch.tensor(1.0, requires_grad=True)\n",
        "b = torch.tensor(2.0, requires_grad=True)\n",
        "c = torch.tensor(3.0, requires_grad=True)\n",
        "\n",
        "# Definir las operaciones\n",
        "d = a + b\n",
        "e = b - c\n",
        "Y = d * e\n",
        "\n",
        "Y.backward()\n",
        "\n",
        "gradiente_a = a.grad\n",
        "gradiente_b = b.grad\n",
        "gradiente_c = c.grad\n",
        "\n",
        "print(\"Gradiente de a:\", gradiente_a)\n",
        "print(\"Gradiente de b:\", gradiente_b)\n",
        "print(\"Gradiente de c:\", gradiente_c)"
      ]
    },
    {
      "cell_type": "markdown",
      "source": [
        "**Obs. Los resultados obtenidos son los mismos por los 3 caminos de cálculo.**"
      ],
      "metadata": {
        "id": "M9YHgkK3SXxt"
      }
    },
    {
      "cell_type": "markdown",
      "metadata": {
        "id": "fvsqmJwx_Rb8"
      },
      "source": [
        "## Ejercicio 2\n",
        "\n"
      ]
    },
    {
      "cell_type": "markdown",
      "metadata": {
        "id": "ABeIRvAkKLy7"
      },
      "source": [
        "a) Implemente un modelo de red recurrente con la arquitectura presentada en la imagen. La misma debe tener:\n",
        "\n",
        "\n",
        "* Como input una señal de 4 canales (4 features)\n",
        "* 3 capas ocultas con 20 neuronas.\n",
        "* Tenga como salida una señal de 2 canales (2 features) de igual longitud que la señal de entrada. (ayuda! emplee 2 capas recurrentes independientes)\n",
        "\n",
        "\n",
        "b) Testeear el modelo con una señal random de longitud 20.\n",
        "\n",
        "c) Indique el total de parámetros entrenables.\n",
        "\n",
        "\n",
        "\n",
        "![c](https://drive.google.com/uc?export=view&id=1jDMr1hOiHBgkDZepHfOaxWQcaNNntB7W)\n",
        "\n",
        "\n",
        "\n",
        "Imagen 3 link (https://drive.google.com/file/d/1jDMr1hOiHBgkDZepHfOaxWQcaNNntB7W/view?usp=drive_link)\n",
        "\n"
      ]
    },
    {
      "cell_type": "markdown",
      "metadata": {
        "id": "AgyHQy4pmdKI"
      },
      "source": [
        " #### a) Implementación de RNN de 3 capas de 20 neuronas."
      ]
    },
    {
      "cell_type": "code",
      "execution_count": 155,
      "metadata": {
        "id": "C1edvybdmdKJ"
      },
      "outputs": [],
      "source": [
        "class examenRNN(nn.Module):\n",
        "    def __init__(self):\n",
        "        super(examenRNN,self).__init__()\n",
        "\n",
        "        #Defino los parámetros del enunciado\n",
        "        input_size = 4\n",
        "        hidden_size = 20\n",
        "        output_size = 2\n",
        "        layers = 1 #Se define por cada capa ya que hay dos independientes\n",
        "        self.hidden_size = hidden_size\n",
        "\n",
        "        #Defino las capas ocultas\n",
        "        self.rnn_1 = nn.RNN(input_size,hidden_size,layers,batch_first=True)\n",
        "\n",
        "        self.rnn_2 = nn.RNN(input_size,hidden_size,layers,batch_first=True)\n",
        "\n",
        "        self.rnn_3 = nn.RNN(hidden_size,hidden_size,layers,batch_first=True) #Esta capa es la dependiente dado que input_size = hidden_size\n",
        "\n",
        "        # Capa lineal de salida\n",
        "        self.fc = nn.Linear(hidden_size, output_size)\n",
        "\n",
        "\n",
        "    def forward(self,x):\n",
        "\n",
        "        #Inicializo las capas ocultas con ceros\n",
        "        h1 = torch.zeros(1, 1, self.hidden_size)\n",
        "        h2 = torch.zeros(1, 1, self.hidden_size)\n",
        "        h3 = torch.zeros(1, 1, self.hidden_size)\n",
        "\n",
        "        out1, h1 = self.rnn_1(x, h1)\n",
        "\n",
        "        out2, h2 = self.rnn_2(x, h2)\n",
        "\n",
        "        intermediate_output = out1 + out2\n",
        "\n",
        "        out3, h3 = self.rnn_3(intermediate_output, h3)\n",
        "\n",
        "        output = self.fc(out3)\n",
        "\n",
        "        return output, h1, h2, h3"
      ]
    },
    {
      "cell_type": "markdown",
      "metadata": {
        "id": "OGP4JSMDmdKK"
      },
      "source": [
        " #### b) Prueba con señal random de longitud 20"
      ]
    },
    {
      "cell_type": "code",
      "execution_count": 156,
      "metadata": {
        "id": "huNIa9EImdKK",
        "colab": {
          "base_uri": "https://localhost:8080/"
        },
        "outputId": "899e2fdb-2969-4b6c-86b1-33220245db07"
      },
      "outputs": [
        {
          "output_type": "stream",
          "name": "stdout",
          "text": [
            "tensor([[[-0.2794, -0.1290],\n",
            "         [-0.1429, -0.0468],\n",
            "         [-0.1590, -0.2007],\n",
            "         [-0.1588, -0.0665],\n",
            "         [-0.1035, -0.0272],\n",
            "         [-0.1969, -0.0563],\n",
            "         [-0.3187, -0.2583],\n",
            "         [-0.1843, -0.4689],\n",
            "         [-0.3071, -0.2378],\n",
            "         [-0.2285, -0.2644],\n",
            "         [-0.2767, -0.1517],\n",
            "         [-0.2921, -0.3333],\n",
            "         [-0.2668, -0.5643],\n",
            "         [-0.2394, -0.4309],\n",
            "         [-0.2160, -0.2128],\n",
            "         [-0.3198, -0.1714],\n",
            "         [-0.2860, -0.2362],\n",
            "         [-0.2761, -0.1619],\n",
            "         [-0.2525, -0.0855],\n",
            "         [-0.2394, -0.0381]]], grad_fn=<ViewBackward0>)\n"
          ]
        }
      ],
      "source": [
        "#Defino la señal random con numpy\n",
        "señal_random = torch.randn(1,20, 4) #Batch, longitud,canales\n",
        "\n",
        "#Genero una instancia del objeto examen RNN\n",
        "RNN= examenRNN()\n",
        "\n",
        "output, h1, h2, h3 = RNN(señal_random)\n",
        "print(output)"
      ]
    },
    {
      "cell_type": "markdown",
      "source": [
        "**Obs. Se obtiene como se esperaba una salida de dos canales e igual longitud que la entrada(20).**"
      ],
      "metadata": {
        "id": "F4JUoVn9Sx4k"
      }
    },
    {
      "cell_type": "markdown",
      "metadata": {
        "id": "nCudi1MRmdKL"
      },
      "source": [
        " #### c) Cantidad de parámetros entrenables del modelo"
      ]
    },
    {
      "cell_type": "code",
      "execution_count": 157,
      "metadata": {
        "id": "Wv-HaYEkmdKM",
        "colab": {
          "base_uri": "https://localhost:8080/"
        },
        "outputId": "b0cae20f-ee17-4b9d-90bd-88a90488ab51"
      },
      "outputs": [
        {
          "output_type": "stream",
          "name": "stdout",
          "text": [
            "------------------------------------------------------------------------------------\n",
            "PARAMETROS DEL MODELO\n",
            "------------------------------------------------------------------------------------\n",
            "Nombre del parámetro: \n",
            "rnn_1.weight_ih_l0\n",
            "Tamaño del parámetro: \n",
            "torch.Size([20, 4])\n",
            "\n",
            "Nombre del parámetro: \n",
            "rnn_1.weight_hh_l0\n",
            "Tamaño del parámetro: \n",
            "torch.Size([20, 20])\n",
            "\n",
            "Nombre del parámetro: \n",
            "rnn_1.bias_ih_l0\n",
            "Tamaño del parámetro: \n",
            "torch.Size([20])\n",
            "\n",
            "Nombre del parámetro: \n",
            "rnn_1.bias_hh_l0\n",
            "Tamaño del parámetro: \n",
            "torch.Size([20])\n",
            "\n",
            "Nombre del parámetro: \n",
            "rnn_2.weight_ih_l0\n",
            "Tamaño del parámetro: \n",
            "torch.Size([20, 4])\n",
            "\n",
            "Nombre del parámetro: \n",
            "rnn_2.weight_hh_l0\n",
            "Tamaño del parámetro: \n",
            "torch.Size([20, 20])\n",
            "\n",
            "Nombre del parámetro: \n",
            "rnn_2.bias_ih_l0\n",
            "Tamaño del parámetro: \n",
            "torch.Size([20])\n",
            "\n",
            "Nombre del parámetro: \n",
            "rnn_2.bias_hh_l0\n",
            "Tamaño del parámetro: \n",
            "torch.Size([20])\n",
            "\n",
            "Nombre del parámetro: \n",
            "rnn_3.weight_ih_l0\n",
            "Tamaño del parámetro: \n",
            "torch.Size([20, 20])\n",
            "\n",
            "Nombre del parámetro: \n",
            "rnn_3.weight_hh_l0\n",
            "Tamaño del parámetro: \n",
            "torch.Size([20, 20])\n",
            "\n",
            "Nombre del parámetro: \n",
            "rnn_3.bias_ih_l0\n",
            "Tamaño del parámetro: \n",
            "torch.Size([20])\n",
            "\n",
            "Nombre del parámetro: \n",
            "rnn_3.bias_hh_l0\n",
            "Tamaño del parámetro: \n",
            "torch.Size([20])\n",
            "\n",
            "Nombre del parámetro: \n",
            "fc.weight\n",
            "Tamaño del parámetro: \n",
            "torch.Size([2, 20])\n",
            "\n",
            "Nombre del parámetro: \n",
            "fc.bias\n",
            "Tamaño del parámetro: \n",
            "torch.Size([2])\n",
            "\n"
          ]
        }
      ],
      "source": [
        "def imp_param(model):\n",
        "  print('-'*84)\n",
        "  print('PARAMETROS DEL MODELO')\n",
        "  print('-'*84)\n",
        "  for name, param in model.named_parameters():\n",
        "    if param.requires_grad:\n",
        "      print('Nombre del parámetro: ')\n",
        "      print(name)\n",
        "      print('Tamaño del parámetro: ')\n",
        "      print(param.data.shape)\n",
        "      print()\n",
        "imp_param(RNN)"
      ]
    },
    {
      "cell_type": "code",
      "execution_count": 158,
      "metadata": {
        "id": "wUKRxR3amdKN",
        "colab": {
          "base_uri": "https://localhost:8080/"
        },
        "outputId": "b5462f39-09d2-42ad-afa2-e8f54bba4b58"
      },
      "outputs": [
        {
          "output_type": "stream",
          "name": "stdout",
          "text": [
            "Número total de parámetros entrenables: 1922\n"
          ]
        }
      ],
      "source": [
        "total_params = sum(p.numel() for p in RNN.parameters() if p.requires_grad)\n",
        "print(\"Número total de parámetros entrenables:\", total_params)"
      ]
    },
    {
      "cell_type": "markdown",
      "metadata": {
        "id": "WL2PjUnT_Uvk"
      },
      "source": [
        "## Ejercicio 3"
      ]
    },
    {
      "cell_type": "markdown",
      "metadata": {
        "id": "73yqE_Sslwif"
      },
      "source": [
        "Se desea construir un sistema de recomendación de películas. Para esto se cuenta con un dataset de las puntuaciones que los usuarios han asignado a las peliculas disponibles.\n",
        "\n",
        "Link dataset: https://drive.google.com/file/d/1Og9H-8oqb3_Wo_WOakeAuRR_mwr922Ar/view?usp=sharing\n",
        "\n",
        "Para verificar la factibilidad del proyecto con datos válidos, se decide utilizar solamente las 200 películas con más votos y los usuarios que han puntuado al menos 100 películas.\n",
        "\n",
        "1- Analizar el dataset para utilizar solamente las 200 películas con mayor cantidad de votos y los usuarios que hayan votado al menos 100 películas.\n",
        "\n",
        "2- A partir del dataset del punto 1, construir una única red neuronal que utilice una capa de embeddings para el id de usuario, una capa de embeddings para el id de película y al menos dos capas lineales que sea capaz de predecir el puntaje que cada usuario colocó a cada pelicula.\n",
        "\n",
        "3- Elegir un usuario al azar, una película que dicho usuario haya puntuado y verificar la predicción del modelo. Comparar con el puntaje real que el usuario asignó a dicha película.\n",
        "\n",
        "4- Realizar una recomendación de película para el usuario del punto 3 utilizando los embeddings de usuario o los embeddings de películas. Comprobar si la recomendación es correcta haciendo una predicción del puntuaje con la red neuronal.\n"
      ]
    },
    {
      "cell_type": "markdown",
      "metadata": {
        "id": "tQk-YD7RmdKQ"
      },
      "source": [
        " #### 3.1 Utilizar solamente las 200 películas con mayor cantidad de votos y los usuarios que hayan votado al menos 100 películas."
      ]
    },
    {
      "cell_type": "code",
      "execution_count": 31,
      "metadata": {
        "id": "eLQzdNeRjzym"
      },
      "outputs": [],
      "source": [
        "import pandas as pd\n",
        "import numpy as np\n",
        "from torch.utils.data import Dataset,DataLoader\n",
        "from sklearn.metrics import mean_squared_error\n",
        "from sklearn import metrics\n",
        "import matplotlib.pyplot as plt\n",
        "import torch\n",
        "import torch.nn as nn\n",
        "import torch.optim as optim\n",
        "import random\n"
      ]
    },
    {
      "cell_type": "code",
      "execution_count": 3,
      "metadata": {
        "colab": {
          "base_uri": "https://localhost:8080/"
        },
        "id": "aIBlXHfSmdKS",
        "outputId": "d3aac43d-e3b6-4d0e-c61e-4fedac8133dd"
      },
      "outputs": [
        {
          "output_type": "stream",
          "name": "stdout",
          "text": [
            "Mounted at /content/drive\n"
          ]
        }
      ],
      "source": [
        "from google.colab import drive\n",
        "drive.mount('/content/drive')\n",
        "\n",
        "file = '/content/drive/My Drive/ratings.csv'\n",
        "df=pd.read_csv(file)\n",
        "core_movies = df.groupby(\"movieId\")[\"rating\"].count().reset_index()\n",
        "core_movies = core_movies.sort_values(by=\"rating\", ascending=False).head(200)"
      ]
    },
    {
      "cell_type": "code",
      "execution_count": 5,
      "metadata": {
        "id": "h51fS8vZmdKS"
      },
      "outputs": [],
      "source": [
        "core_users = df.groupby(\"userId\")[\"movieId\"].count().reset_index()\n",
        "core_users =core_users[core_users[\"movieId\"]>=100]"
      ]
    },
    {
      "cell_type": "code",
      "execution_count": 6,
      "metadata": {
        "colab": {
          "base_uri": "https://localhost:8080/",
          "height": 423
        },
        "id": "2Rl32KnfmdKT",
        "outputId": "79406017-270f-44af-c8e6-f54d337ae457"
      },
      "outputs": [
        {
          "output_type": "execute_result",
          "data": {
            "text/plain": [
              "        userId  movieId  rating   timestamp\n",
              "0            1        1     4.0   964982703\n",
              "2            1        6     4.0   964982224\n",
              "3            1       47     5.0   964983815\n",
              "4            1       50     5.0   964982931\n",
              "7            1      110     4.0   964982176\n",
              "...        ...      ...     ...         ...\n",
              "100326     610    60069     4.5  1493844866\n",
              "100371     610    68157     5.0  1493845023\n",
              "100380     610    68954     3.5  1493844881\n",
              "100417     610    72998     4.5  1479544106\n",
              "100452     610    79132     4.0  1493844703\n",
              "\n",
              "[18588 rows x 4 columns]"
            ],
            "text/html": [
              "\n",
              "  <div id=\"df-f44388e7-5a6d-4080-9f6e-324cb9da947b\" class=\"colab-df-container\">\n",
              "    <div>\n",
              "<style scoped>\n",
              "    .dataframe tbody tr th:only-of-type {\n",
              "        vertical-align: middle;\n",
              "    }\n",
              "\n",
              "    .dataframe tbody tr th {\n",
              "        vertical-align: top;\n",
              "    }\n",
              "\n",
              "    .dataframe thead th {\n",
              "        text-align: right;\n",
              "    }\n",
              "</style>\n",
              "<table border=\"1\" class=\"dataframe\">\n",
              "  <thead>\n",
              "    <tr style=\"text-align: right;\">\n",
              "      <th></th>\n",
              "      <th>userId</th>\n",
              "      <th>movieId</th>\n",
              "      <th>rating</th>\n",
              "      <th>timestamp</th>\n",
              "    </tr>\n",
              "  </thead>\n",
              "  <tbody>\n",
              "    <tr>\n",
              "      <th>0</th>\n",
              "      <td>1</td>\n",
              "      <td>1</td>\n",
              "      <td>4.0</td>\n",
              "      <td>964982703</td>\n",
              "    </tr>\n",
              "    <tr>\n",
              "      <th>2</th>\n",
              "      <td>1</td>\n",
              "      <td>6</td>\n",
              "      <td>4.0</td>\n",
              "      <td>964982224</td>\n",
              "    </tr>\n",
              "    <tr>\n",
              "      <th>3</th>\n",
              "      <td>1</td>\n",
              "      <td>47</td>\n",
              "      <td>5.0</td>\n",
              "      <td>964983815</td>\n",
              "    </tr>\n",
              "    <tr>\n",
              "      <th>4</th>\n",
              "      <td>1</td>\n",
              "      <td>50</td>\n",
              "      <td>5.0</td>\n",
              "      <td>964982931</td>\n",
              "    </tr>\n",
              "    <tr>\n",
              "      <th>7</th>\n",
              "      <td>1</td>\n",
              "      <td>110</td>\n",
              "      <td>4.0</td>\n",
              "      <td>964982176</td>\n",
              "    </tr>\n",
              "    <tr>\n",
              "      <th>...</th>\n",
              "      <td>...</td>\n",
              "      <td>...</td>\n",
              "      <td>...</td>\n",
              "      <td>...</td>\n",
              "    </tr>\n",
              "    <tr>\n",
              "      <th>100326</th>\n",
              "      <td>610</td>\n",
              "      <td>60069</td>\n",
              "      <td>4.5</td>\n",
              "      <td>1493844866</td>\n",
              "    </tr>\n",
              "    <tr>\n",
              "      <th>100371</th>\n",
              "      <td>610</td>\n",
              "      <td>68157</td>\n",
              "      <td>5.0</td>\n",
              "      <td>1493845023</td>\n",
              "    </tr>\n",
              "    <tr>\n",
              "      <th>100380</th>\n",
              "      <td>610</td>\n",
              "      <td>68954</td>\n",
              "      <td>3.5</td>\n",
              "      <td>1493844881</td>\n",
              "    </tr>\n",
              "    <tr>\n",
              "      <th>100417</th>\n",
              "      <td>610</td>\n",
              "      <td>72998</td>\n",
              "      <td>4.5</td>\n",
              "      <td>1479544106</td>\n",
              "    </tr>\n",
              "    <tr>\n",
              "      <th>100452</th>\n",
              "      <td>610</td>\n",
              "      <td>79132</td>\n",
              "      <td>4.0</td>\n",
              "      <td>1493844703</td>\n",
              "    </tr>\n",
              "  </tbody>\n",
              "</table>\n",
              "<p>18588 rows × 4 columns</p>\n",
              "</div>\n",
              "    <div class=\"colab-df-buttons\">\n",
              "\n",
              "  <div class=\"colab-df-container\">\n",
              "    <button class=\"colab-df-convert\" onclick=\"convertToInteractive('df-f44388e7-5a6d-4080-9f6e-324cb9da947b')\"\n",
              "            title=\"Convert this dataframe to an interactive table.\"\n",
              "            style=\"display:none;\">\n",
              "\n",
              "  <svg xmlns=\"http://www.w3.org/2000/svg\" height=\"24px\" viewBox=\"0 -960 960 960\">\n",
              "    <path d=\"M120-120v-720h720v720H120Zm60-500h600v-160H180v160Zm220 220h160v-160H400v160Zm0 220h160v-160H400v160ZM180-400h160v-160H180v160Zm440 0h160v-160H620v160ZM180-180h160v-160H180v160Zm440 0h160v-160H620v160Z\"/>\n",
              "  </svg>\n",
              "    </button>\n",
              "\n",
              "  <style>\n",
              "    .colab-df-container {\n",
              "      display:flex;\n",
              "      gap: 12px;\n",
              "    }\n",
              "\n",
              "    .colab-df-convert {\n",
              "      background-color: #E8F0FE;\n",
              "      border: none;\n",
              "      border-radius: 50%;\n",
              "      cursor: pointer;\n",
              "      display: none;\n",
              "      fill: #1967D2;\n",
              "      height: 32px;\n",
              "      padding: 0 0 0 0;\n",
              "      width: 32px;\n",
              "    }\n",
              "\n",
              "    .colab-df-convert:hover {\n",
              "      background-color: #E2EBFA;\n",
              "      box-shadow: 0px 1px 2px rgba(60, 64, 67, 0.3), 0px 1px 3px 1px rgba(60, 64, 67, 0.15);\n",
              "      fill: #174EA6;\n",
              "    }\n",
              "\n",
              "    .colab-df-buttons div {\n",
              "      margin-bottom: 4px;\n",
              "    }\n",
              "\n",
              "    [theme=dark] .colab-df-convert {\n",
              "      background-color: #3B4455;\n",
              "      fill: #D2E3FC;\n",
              "    }\n",
              "\n",
              "    [theme=dark] .colab-df-convert:hover {\n",
              "      background-color: #434B5C;\n",
              "      box-shadow: 0px 1px 3px 1px rgba(0, 0, 0, 0.15);\n",
              "      filter: drop-shadow(0px 1px 2px rgba(0, 0, 0, 0.3));\n",
              "      fill: #FFFFFF;\n",
              "    }\n",
              "  </style>\n",
              "\n",
              "    <script>\n",
              "      const buttonEl =\n",
              "        document.querySelector('#df-f44388e7-5a6d-4080-9f6e-324cb9da947b button.colab-df-convert');\n",
              "      buttonEl.style.display =\n",
              "        google.colab.kernel.accessAllowed ? 'block' : 'none';\n",
              "\n",
              "      async function convertToInteractive(key) {\n",
              "        const element = document.querySelector('#df-f44388e7-5a6d-4080-9f6e-324cb9da947b');\n",
              "        const dataTable =\n",
              "          await google.colab.kernel.invokeFunction('convertToInteractive',\n",
              "                                                    [key], {});\n",
              "        if (!dataTable) return;\n",
              "\n",
              "        const docLinkHtml = 'Like what you see? Visit the ' +\n",
              "          '<a target=\"_blank\" href=https://colab.research.google.com/notebooks/data_table.ipynb>data table notebook</a>'\n",
              "          + ' to learn more about interactive tables.';\n",
              "        element.innerHTML = '';\n",
              "        dataTable['output_type'] = 'display_data';\n",
              "        await google.colab.output.renderOutput(dataTable, element);\n",
              "        const docLink = document.createElement('div');\n",
              "        docLink.innerHTML = docLinkHtml;\n",
              "        element.appendChild(docLink);\n",
              "      }\n",
              "    </script>\n",
              "  </div>\n",
              "\n",
              "\n",
              "<div id=\"df-63578bfd-3f73-47a5-aa41-1aa119dc1b20\">\n",
              "  <button class=\"colab-df-quickchart\" onclick=\"quickchart('df-63578bfd-3f73-47a5-aa41-1aa119dc1b20')\"\n",
              "            title=\"Suggest charts.\"\n",
              "            style=\"display:none;\">\n",
              "\n",
              "<svg xmlns=\"http://www.w3.org/2000/svg\" height=\"24px\"viewBox=\"0 0 24 24\"\n",
              "     width=\"24px\">\n",
              "    <g>\n",
              "        <path d=\"M19 3H5c-1.1 0-2 .9-2 2v14c0 1.1.9 2 2 2h14c1.1 0 2-.9 2-2V5c0-1.1-.9-2-2-2zM9 17H7v-7h2v7zm4 0h-2V7h2v10zm4 0h-2v-4h2v4z\"/>\n",
              "    </g>\n",
              "</svg>\n",
              "  </button>\n",
              "\n",
              "<style>\n",
              "  .colab-df-quickchart {\n",
              "      --bg-color: #E8F0FE;\n",
              "      --fill-color: #1967D2;\n",
              "      --hover-bg-color: #E2EBFA;\n",
              "      --hover-fill-color: #174EA6;\n",
              "      --disabled-fill-color: #AAA;\n",
              "      --disabled-bg-color: #DDD;\n",
              "  }\n",
              "\n",
              "  [theme=dark] .colab-df-quickchart {\n",
              "      --bg-color: #3B4455;\n",
              "      --fill-color: #D2E3FC;\n",
              "      --hover-bg-color: #434B5C;\n",
              "      --hover-fill-color: #FFFFFF;\n",
              "      --disabled-bg-color: #3B4455;\n",
              "      --disabled-fill-color: #666;\n",
              "  }\n",
              "\n",
              "  .colab-df-quickchart {\n",
              "    background-color: var(--bg-color);\n",
              "    border: none;\n",
              "    border-radius: 50%;\n",
              "    cursor: pointer;\n",
              "    display: none;\n",
              "    fill: var(--fill-color);\n",
              "    height: 32px;\n",
              "    padding: 0;\n",
              "    width: 32px;\n",
              "  }\n",
              "\n",
              "  .colab-df-quickchart:hover {\n",
              "    background-color: var(--hover-bg-color);\n",
              "    box-shadow: 0 1px 2px rgba(60, 64, 67, 0.3), 0 1px 3px 1px rgba(60, 64, 67, 0.15);\n",
              "    fill: var(--button-hover-fill-color);\n",
              "  }\n",
              "\n",
              "  .colab-df-quickchart-complete:disabled,\n",
              "  .colab-df-quickchart-complete:disabled:hover {\n",
              "    background-color: var(--disabled-bg-color);\n",
              "    fill: var(--disabled-fill-color);\n",
              "    box-shadow: none;\n",
              "  }\n",
              "\n",
              "  .colab-df-spinner {\n",
              "    border: 2px solid var(--fill-color);\n",
              "    border-color: transparent;\n",
              "    border-bottom-color: var(--fill-color);\n",
              "    animation:\n",
              "      spin 1s steps(1) infinite;\n",
              "  }\n",
              "\n",
              "  @keyframes spin {\n",
              "    0% {\n",
              "      border-color: transparent;\n",
              "      border-bottom-color: var(--fill-color);\n",
              "      border-left-color: var(--fill-color);\n",
              "    }\n",
              "    20% {\n",
              "      border-color: transparent;\n",
              "      border-left-color: var(--fill-color);\n",
              "      border-top-color: var(--fill-color);\n",
              "    }\n",
              "    30% {\n",
              "      border-color: transparent;\n",
              "      border-left-color: var(--fill-color);\n",
              "      border-top-color: var(--fill-color);\n",
              "      border-right-color: var(--fill-color);\n",
              "    }\n",
              "    40% {\n",
              "      border-color: transparent;\n",
              "      border-right-color: var(--fill-color);\n",
              "      border-top-color: var(--fill-color);\n",
              "    }\n",
              "    60% {\n",
              "      border-color: transparent;\n",
              "      border-right-color: var(--fill-color);\n",
              "    }\n",
              "    80% {\n",
              "      border-color: transparent;\n",
              "      border-right-color: var(--fill-color);\n",
              "      border-bottom-color: var(--fill-color);\n",
              "    }\n",
              "    90% {\n",
              "      border-color: transparent;\n",
              "      border-bottom-color: var(--fill-color);\n",
              "    }\n",
              "  }\n",
              "</style>\n",
              "\n",
              "  <script>\n",
              "    async function quickchart(key) {\n",
              "      const quickchartButtonEl =\n",
              "        document.querySelector('#' + key + ' button');\n",
              "      quickchartButtonEl.disabled = true;  // To prevent multiple clicks.\n",
              "      quickchartButtonEl.classList.add('colab-df-spinner');\n",
              "      try {\n",
              "        const charts = await google.colab.kernel.invokeFunction(\n",
              "            'suggestCharts', [key], {});\n",
              "      } catch (error) {\n",
              "        console.error('Error during call to suggestCharts:', error);\n",
              "      }\n",
              "      quickchartButtonEl.classList.remove('colab-df-spinner');\n",
              "      quickchartButtonEl.classList.add('colab-df-quickchart-complete');\n",
              "    }\n",
              "    (() => {\n",
              "      let quickchartButtonEl =\n",
              "        document.querySelector('#df-63578bfd-3f73-47a5-aa41-1aa119dc1b20 button');\n",
              "      quickchartButtonEl.style.display =\n",
              "        google.colab.kernel.accessAllowed ? 'block' : 'none';\n",
              "    })();\n",
              "  </script>\n",
              "</div>\n",
              "    </div>\n",
              "  </div>\n"
            ]
          },
          "metadata": {},
          "execution_count": 6
        }
      ],
      "source": [
        "df_final = df[df[\"movieId\"].isin(core_movies['movieId'])]\n",
        "df_final = df_final[df_final[\"userId\"].isin(core_users['userId'])]\n",
        "df_final"
      ]
    },
    {
      "cell_type": "markdown",
      "metadata": {
        "id": "nnkZVdbGmdKU"
      },
      "source": [
        " #### 3.2 Construir una única red neuronal que utilice una capa de embeddings para el id de usuario, una capa de embeddings para el id de película y al menos dos capas lineales que sea capaz de predecir el puntaje que cada usuario colocó a cada pelicula."
      ]
    },
    {
      "cell_type": "code",
      "execution_count": 7,
      "metadata": {
        "id": "Gf4g78b4mdKV"
      },
      "outputs": [],
      "source": [
        "#Establezco mi dataset\n",
        "x = df_final.drop(['rating','timestamp'],axis=1).to_numpy()\n",
        "y = df_final['rating'].to_numpy()"
      ]
    },
    {
      "cell_type": "code",
      "execution_count": 8,
      "metadata": {
        "id": "tqgkOdgsmdKV"
      },
      "outputs": [],
      "source": [
        "#Normalizo para acelerar el entrenamiento\n",
        "x_min = np.min(x,axis=0)\n",
        "x_max = np.max(x,axis=0)\n",
        "x_norm = (x-x_min)/(x_max-x_min)"
      ]
    },
    {
      "cell_type": "code",
      "execution_count": 9,
      "metadata": {
        "id": "K2xq13NumdKW"
      },
      "outputs": [],
      "source": [
        "#Divido en train/valid\n",
        "np.random.seed(53)\n",
        "idx = np.random.permutation(x_norm.shape[0])\n",
        "train_idx = idx[:int(0.8*x_norm.shape[0])]\n",
        "valid_idx = idx[int(0.8*x_norm.shape[0]):]\n",
        "\n",
        "train_x = x_norm[train_idx]\n",
        "train_y = y[train_idx]\n",
        "\n",
        "valid_x = x_norm[valid_idx]\n",
        "valid_y = y[valid_idx]\n",
        "\n",
        "n_train = len(train_x)\n"
      ]
    },
    {
      "cell_type": "code",
      "execution_count": 10,
      "metadata": {
        "id": "kTVqhVPqmdKX"
      },
      "outputs": [],
      "source": [
        "#Defino los mapeos para embedding de usuario\n",
        "userId = df_final['userId']\n",
        "user_id_to_idx = {value: i for i, value in enumerate(userId.unique())}\n",
        "user_idx = np.array([user_id_to_idx[value] for value in userId])"
      ]
    },
    {
      "cell_type": "code",
      "execution_count": 11,
      "metadata": {
        "id": "uquY6ZPZmdKa"
      },
      "outputs": [],
      "source": [
        "#Defino los mapeos para embedding de movie\n",
        "movieId = df_final['movieId']\n",
        "movie_id_to_idx = {value: i for i, value in enumerate(movieId.unique())}\n",
        "movie_idx = np.array([movie_id_to_idx[value] for value in movieId])\n"
      ]
    },
    {
      "cell_type": "code",
      "execution_count": 12,
      "metadata": {
        "id": "gonaho7kmdKb"
      },
      "outputs": [],
      "source": [
        "#Divido en train y valid\n",
        "user_idx_train = user_idx[train_idx]\n",
        "user_idx_valid = user_idx[valid_idx]\n",
        "\n",
        "movie_idx_train = movie_idx[train_idx]\n",
        "movie_idx_valid = movie_idx[valid_idx]"
      ]
    },
    {
      "cell_type": "code",
      "execution_count": 14,
      "metadata": {
        "id": "Wzozzg0vmdKd"
      },
      "outputs": [],
      "source": [
        "class MyDataset(Dataset):\n",
        "    def __init__(self,x,user_idx,movie_idx,y):\n",
        "        self.x=x\n",
        "        self.user_idx=user_idx\n",
        "        self.movie_idx=movie_idx\n",
        "        self.y=y\n",
        "\n",
        "    def __len__(self):\n",
        "        return self.x.shape[0]\n",
        "\n",
        "    def __getitem__(self,idx):\n",
        "        return self.x[idx],self.user_idx[idx],self.movie_idx[idx],self.y[idx]"
      ]
    },
    {
      "cell_type": "code",
      "execution_count": 15,
      "metadata": {
        "id": "Ph4YCYrOmdKe"
      },
      "outputs": [],
      "source": [
        "train_ds = MyDataset(train_x,user_idx_train,movie_idx_train,train_y)\n",
        "\n",
        "valid_ds = MyDataset(valid_x,user_idx_valid,movie_idx_valid,valid_y)\n",
        "\n",
        "train_dataloader = DataLoader(train_ds,batch_size=64,shuffle=True)\n",
        "\n",
        "valid_dataloader = DataLoader(valid_ds,batch_size=64)"
      ]
    },
    {
      "cell_type": "code",
      "execution_count": 18,
      "metadata": {
        "id": "GNSCOpPEmdKh"
      },
      "outputs": [],
      "source": [
        "#Arquitectura de la red neuronal con embeddings\n",
        "\n",
        "class NNet(torch.nn.Module):\n",
        "    def __init__(self):\n",
        "        super().__init__()\n",
        "        self.embedding_user = torch.nn.Embedding(num_embeddings=len(userId.unique()), embedding_dim=32)\n",
        "        self.embedding_movie = torch.nn.Embedding(num_embeddings=len(movieId.unique()), embedding_dim=32)\n",
        "\n",
        "        #Capa independiente 1\n",
        "        self.linear1 = torch.nn.Linear(in_features=32, out_features=200, bias=True)\n",
        "        #self.dropout1 = nn.Dropout(0.2)\n",
        "        self.Tanh1 = torch.nn.Tanh()\n",
        "\n",
        "        #Capa independiente 2\n",
        "        self.linear2 = torch.nn.Linear(in_features=32, out_features=200, bias=True)\n",
        "        self.Tanh2 = torch.nn.Tanh()\n",
        "\n",
        "        #Capa 3 que recibe la combinación de las salidas anteriores\n",
        "\n",
        "        self.linear3 = torch.nn.Linear(in_features=200, out_features=100 , bias=True)\n",
        "        self.Tanh3 = torch.nn.Tanh()\n",
        "\n",
        "        #Capa de salida\n",
        "        self.output = torch.nn.Linear(in_features=100, out_features=1)\n",
        "\n",
        "        # Inicializo optimizador con parámetros de inicio\n",
        "        self.optimizer = optim.AdamW(self.parameters(), lr =0.005257, weight_decay=0.01098)\n",
        "\n",
        "\n",
        "    def forward(self,x,user_idx, movie_idx):\n",
        "          #Salida de los embedding\n",
        "          output_embedding_user = self.embedding_user(user_idx).to(dtype=torch.float32)\n",
        "          output_embedding_movie = self.embedding_movie(movie_idx).to(dtype=torch.float32)\n",
        "\n",
        "\n",
        "          #Concatenación embeddings y x\n",
        "          #combined_output_user = torch.cat([x,output_embedding_user], dim=1)\n",
        "          #combined_output_movie = torch.cat([x,output_embedding_movie], dim=1)\n",
        "\n",
        "          a = self.linear1(output_embedding_user)\n",
        "          out1 = self.Tanh1(a)\n",
        "\n",
        "          b = self.linear2(output_embedding_movie)\n",
        "          out2 = self.Tanh2(b)\n",
        "\n",
        "\n",
        "          combined_out = (out2*out1)\n",
        "          c = self.linear3(combined_out)\n",
        "          c = self.Tanh3(c)\n",
        "          c = self.output(c)\n",
        "          return c\n"
      ]
    },
    {
      "cell_type": "code",
      "execution_count": 19,
      "metadata": {
        "id": "Ac1S1Gx-mdKi"
      },
      "outputs": [],
      "source": [
        "#Defino R2 como métrica para usar luego\n",
        "class RSquaredLoss(torch.nn.Module):\n",
        "    def forward(self, y_pred, y_true):\n",
        "        ssr = torch.sum((y_true - y_pred) ** 2)\n",
        "        mean = torch.mean(y_true)\n",
        "        sst = torch.sum((y_true - mean) ** 2)\n",
        "        r_squared = 1 - (ssr / sst)\n",
        "        return r_squared\n",
        "\n",
        "RR = RSquaredLoss()"
      ]
    },
    {
      "cell_type": "code",
      "execution_count": null,
      "metadata": {
        "id": "eXpLBAOKmdKj"
      },
      "outputs": [],
      "source": []
    },
    {
      "cell_type": "code",
      "execution_count": 20,
      "metadata": {
        "id": "xn9PM6vdLRp4"
      },
      "outputs": [],
      "source": [
        "#Defino función de entrenamiento con los hiperparámetros seleccionados previamente usando Optuna y con muchas prueba manuales\n",
        "\n",
        "nnet=NNet()\n",
        "\n",
        "def final_train(nnet,lr,weight_decay,epochs):\n",
        "\n",
        "    #Defino función de pérdida\n",
        "    loss_function = torch.nn.MSELoss()\n",
        "\n",
        "    #Defino optimizador\n",
        "    optimizer = optim.AdamW(nnet.parameters(),lr=lr ,weight_decay = weight_decay)\n",
        "\n",
        "    #Entrenamiento\n",
        "    epochs = epochs\n",
        "\n",
        "    train_loss_by_epoch = []\n",
        "    valid_loss_by_epoch = []\n",
        "\n",
        "\n",
        "    loss_train_values = []\n",
        "    R2_train_values=[]\n",
        "    R2_valid_values = []\n",
        "\n",
        "    for epoch in range(epochs):\n",
        "        nnet.train(True)\n",
        "        epoch_loss = 0.0\n",
        "        epoch_y = []\n",
        "        epoch_y_hat = []\n",
        "\n",
        "        for i,data in enumerate (train_dataloader):\n",
        "            x_batch, user_idx_batch,movie_idx_batch,y_batch = data\n",
        "            user_idx_batch = user_idx_batch.int()\n",
        "            movie_idx_batch = movie_idx_batch.int()\n",
        "            x_batch=x_batch.float()\n",
        "            y_batch = y_batch.float()\n",
        "            y_batch = y_batch.reshape(-1,1)\n",
        "\n",
        "\n",
        "            #Paso fordward\n",
        "            optimizer.zero_grad()\n",
        "            y_pred = nnet(x_batch,user_idx_batch,movie_idx_batch)\n",
        "            y_pred = y_pred.float()\n",
        "\n",
        "\n",
        "            #Función de pérdida\n",
        "            loss = loss_function(y_pred,y_batch)\n",
        "\n",
        "            #Backpropagation\n",
        "            loss.backward()\n",
        "\n",
        "            #Actualizo parámetros\n",
        "            optimizer.step()\n",
        "\n",
        "\n",
        "        #Guardo los valores de y real e y predicha\n",
        "        epoch_y += list(y_batch.detach().numpy())\n",
        "        epoch_y_hat += list(y_pred.detach().numpy())\n",
        "\n",
        "        #Calculo la pérdida total por época\n",
        "        epoch_loss = epoch_loss + loss.item()\n",
        "\n",
        "\n",
        "        #Guardo las medias de cada epoch_loss\n",
        "        train_loss_by_epoch.append(epoch_loss)\n",
        "        coef_corr_train = RR(y_pred,y_batch)\n",
        "        R2_train_values.append(coef_corr_train.item())\n",
        "\n",
        "    #########################################################\n",
        "\n",
        "        #Validación del modelo\n",
        "        nnet.train(False)\n",
        "        #Defino función de pérdida\n",
        "        #loss_function = torch.nn.MSELoss()\n",
        "\n",
        "        #Defino optimizador\n",
        "        #optimizer = optim.Adam(nnet.parameters(),lr=0.09,weight_decay=0.01)\n",
        "\n",
        "        #Entrenamiento\n",
        "\n",
        "        valid_loss_by_epoch = []\n",
        "        loss_valid_values = []\n",
        "\n",
        "\n",
        "        valid_epoch_loss = 0.0\n",
        "\n",
        "        for i,data in enumerate(valid_dataloader):\n",
        "            x_batch, user_idx_batch,movie_idx_batch,y_batch = data\n",
        "            user_idx_batch = user_idx_batch.int()\n",
        "            movie_idx_batch = movie_idx_batch.int()\n",
        "            x_batch = x_batch.float()\n",
        "            y_batch = y_batch.float()\n",
        "            y_batch = y_batch.reshape(-1,1)\n",
        "\n",
        "\n",
        "            #Paso fordward\n",
        "            #optimizer.zero_grad()\n",
        "            y_pred_valid = nnet(x_batch,user_idx_batch,movie_idx_batch)\n",
        "            y_pred_valid = y_pred_valid.float()\n",
        "\n",
        "\n",
        "            #Función de pérdida\n",
        "            valid_loss = loss_function(y_pred_valid,y_batch)\n",
        "\n",
        "            #Backpropagation\n",
        "            #loss.backward()\n",
        "\n",
        "            #Actualizo parámetros\n",
        "            #optimizer.step()\n",
        "\n",
        "\n",
        "            #Guardo los valores de y real e y predicha\n",
        "            epoch_y += list(y_batch.detach().numpy())\n",
        "            epoch_y_hat += list(y_pred_valid.detach().numpy())\n",
        "\n",
        "            #Calculo la pérdida total por época\n",
        "            valid_epoch_loss = valid_epoch_loss + valid_loss.item()\n",
        "\n",
        "\n",
        "        #Guardo las medias de cada epoch_loss\n",
        "        valid_loss_by_epoch.append(valid_epoch_loss)\n",
        "        coef_corr_valid = RR(y_pred_valid,y_batch)\n",
        "        R2_valid_values.append(coef_corr_valid.item())\n",
        "\n",
        "\n",
        "        print(f\"Epoch {epoch+1}: Train Loss/Valid Loss: {loss.item():.3f} / {valid_loss.item():.3f} , R2_train/R2_valid: {coef_corr_train.item():.3f} / {coef_corr_valid.item():.3f}\")\n",
        "\n",
        "    epochs_list = list(range(1, epochs + 1))\n",
        "    #R2_train_values = [value.detach().numpy() for value in R2_train_values]\n",
        "\n",
        "    #Grafico resultados del entrenamiento definitivo\n",
        "\n",
        "    epochs_list = list(range(1, epochs + 1))\n",
        "    #R2_train_values = [value.detach().numpy() for value in R2_train_values]\n",
        "\n",
        "    plt.figure(figsize=(8,6))\n",
        "    plt.plot(epochs_list, R2_train_values, marker='.', linestyle='-',color='g',lw=3,label= 'R2 train')\n",
        "    plt.plot(epochs_list, R2_valid_values, marker='.', linestyle='-',color='r',lw=3,label= 'R2 valid')\n",
        "    plt.xlabel('Épocas')\n",
        "    plt.ylabel('R2_train_values')\n",
        "    plt.ylim(-2, 1)\n",
        "    plt.grid(True)\n",
        "    plt.legend()\n",
        "    plt.title('R2 vs épocas')\n",
        "    plt.show()\n",
        "\n",
        "    return print('Entrenamiento finalizado')"
      ]
    },
    {
      "cell_type": "code",
      "source": [
        "#Realizo el entrenamiento de la red neuronal con la red nnet, learning_rate = 0.0055147 y weight_decay = 0.001103\n",
        "nnet_train = final_train(nnet,0.0055147,0.01103,100)"
      ],
      "metadata": {
        "colab": {
          "base_uri": "https://localhost:8080/",
          "height": 1000
        },
        "id": "YP5zg2zCWcm6",
        "outputId": "02613a94-0c4a-475f-c0bc-b4ebca28c8cd"
      },
      "execution_count": 21,
      "outputs": [
        {
          "output_type": "stream",
          "name": "stdout",
          "text": [
            "Epoch 1: Train Loss/Valid Loss: 1.042 / 1.511 , R2_train/R2_valid: -0.187 / 0.033\n",
            "Epoch 2: Train Loss/Valid Loss: 0.610 / 0.967 , R2_train/R2_valid: 0.253 / 0.381\n",
            "Epoch 3: Train Loss/Valid Loss: 1.190 / 0.628 , R2_train/R2_valid: 0.029 / 0.598\n",
            "Epoch 4: Train Loss/Valid Loss: 0.534 / 0.820 , R2_train/R2_valid: 0.210 / 0.475\n",
            "Epoch 5: Train Loss/Valid Loss: 1.339 / 0.584 , R2_train/R2_valid: 0.190 / 0.626\n",
            "Epoch 6: Train Loss/Valid Loss: 0.371 / 0.552 , R2_train/R2_valid: 0.367 / 0.647\n",
            "Epoch 7: Train Loss/Valid Loss: 0.481 / 0.499 , R2_train/R2_valid: 0.259 / 0.681\n",
            "Epoch 8: Train Loss/Valid Loss: 0.368 / 0.561 , R2_train/R2_valid: 0.565 / 0.641\n",
            "Epoch 9: Train Loss/Valid Loss: 0.674 / 0.572 , R2_train/R2_valid: 0.365 / 0.634\n",
            "Epoch 10: Train Loss/Valid Loss: 0.784 / 0.737 , R2_train/R2_valid: -0.016 / 0.528\n",
            "Epoch 11: Train Loss/Valid Loss: 0.759 / 0.584 , R2_train/R2_valid: 0.323 / 0.626\n",
            "Epoch 12: Train Loss/Valid Loss: 0.399 / 0.621 , R2_train/R2_valid: 0.570 / 0.603\n",
            "Epoch 13: Train Loss/Valid Loss: 0.179 / 0.647 , R2_train/R2_valid: 0.803 / 0.586\n",
            "Epoch 14: Train Loss/Valid Loss: 0.252 / 0.532 , R2_train/R2_valid: 0.617 / 0.660\n",
            "Epoch 15: Train Loss/Valid Loss: 0.161 / 0.627 , R2_train/R2_valid: 0.825 / 0.599\n",
            "Epoch 16: Train Loss/Valid Loss: 0.227 / 0.525 , R2_train/R2_valid: 0.764 / 0.664\n",
            "Epoch 17: Train Loss/Valid Loss: 0.174 / 0.455 , R2_train/R2_valid: 0.721 / 0.709\n",
            "Epoch 18: Train Loss/Valid Loss: 0.117 / 0.628 , R2_train/R2_valid: 0.839 / 0.598\n",
            "Epoch 19: Train Loss/Valid Loss: 0.115 / 0.532 , R2_train/R2_valid: 0.822 / 0.659\n",
            "Epoch 20: Train Loss/Valid Loss: 0.145 / 0.621 , R2_train/R2_valid: 0.751 / 0.603\n",
            "Epoch 21: Train Loss/Valid Loss: 0.190 / 0.727 , R2_train/R2_valid: 0.828 / 0.535\n",
            "Epoch 22: Train Loss/Valid Loss: 0.117 / 0.530 , R2_train/R2_valid: 0.736 / 0.661\n",
            "Epoch 23: Train Loss/Valid Loss: 0.112 / 0.457 , R2_train/R2_valid: 0.893 / 0.708\n",
            "Epoch 24: Train Loss/Valid Loss: 0.104 / 0.554 , R2_train/R2_valid: 0.879 / 0.645\n",
            "Epoch 25: Train Loss/Valid Loss: 0.127 / 0.510 , R2_train/R2_valid: 0.774 / 0.673\n",
            "Epoch 26: Train Loss/Valid Loss: 0.147 / 0.594 , R2_train/R2_valid: 0.910 / 0.620\n",
            "Epoch 27: Train Loss/Valid Loss: 0.111 / 0.629 , R2_train/R2_valid: 0.859 / 0.597\n",
            "Epoch 28: Train Loss/Valid Loss: 0.142 / 0.573 , R2_train/R2_valid: 0.856 / 0.633\n",
            "Epoch 29: Train Loss/Valid Loss: 0.054 / 0.682 , R2_train/R2_valid: 0.925 / 0.564\n",
            "Epoch 30: Train Loss/Valid Loss: 0.083 / 0.579 , R2_train/R2_valid: 0.937 / 0.629\n",
            "Epoch 31: Train Loss/Valid Loss: 0.079 / 0.799 , R2_train/R2_valid: 0.885 / 0.488\n",
            "Epoch 32: Train Loss/Valid Loss: 0.127 / 0.549 , R2_train/R2_valid: 0.903 / 0.649\n",
            "Epoch 33: Train Loss/Valid Loss: 0.128 / 0.633 , R2_train/R2_valid: 0.896 / 0.595\n",
            "Epoch 34: Train Loss/Valid Loss: 0.099 / 0.660 , R2_train/R2_valid: 0.920 / 0.577\n",
            "Epoch 35: Train Loss/Valid Loss: 0.056 / 0.436 , R2_train/R2_valid: 0.932 / 0.721\n",
            "Epoch 36: Train Loss/Valid Loss: 0.042 / 0.580 , R2_train/R2_valid: 0.962 / 0.629\n",
            "Epoch 37: Train Loss/Valid Loss: 0.084 / 0.293 , R2_train/R2_valid: 0.896 / 0.812\n",
            "Epoch 38: Train Loss/Valid Loss: 0.160 / 0.305 , R2_train/R2_valid: 0.846 / 0.804\n",
            "Epoch 39: Train Loss/Valid Loss: 0.041 / 0.573 , R2_train/R2_valid: 0.910 / 0.633\n",
            "Epoch 40: Train Loss/Valid Loss: 0.071 / 0.564 , R2_train/R2_valid: 0.943 / 0.639\n",
            "Epoch 41: Train Loss/Valid Loss: 0.045 / 0.472 , R2_train/R2_valid: 0.960 / 0.698\n",
            "Epoch 42: Train Loss/Valid Loss: 0.064 / 0.420 , R2_train/R2_valid: 0.896 / 0.731\n",
            "Epoch 43: Train Loss/Valid Loss: 0.099 / 0.498 , R2_train/R2_valid: 0.896 / 0.681\n",
            "Epoch 44: Train Loss/Valid Loss: 0.156 / 0.805 , R2_train/R2_valid: 0.820 / 0.485\n",
            "Epoch 45: Train Loss/Valid Loss: 0.089 / 0.765 , R2_train/R2_valid: 0.887 / 0.511\n",
            "Epoch 46: Train Loss/Valid Loss: 0.053 / 0.421 , R2_train/R2_valid: 0.919 / 0.731\n",
            "Epoch 47: Train Loss/Valid Loss: 0.101 / 0.592 , R2_train/R2_valid: 0.886 / 0.621\n",
            "Epoch 48: Train Loss/Valid Loss: 0.059 / 0.549 , R2_train/R2_valid: 0.926 / 0.649\n",
            "Epoch 49: Train Loss/Valid Loss: 0.056 / 0.561 , R2_train/R2_valid: 0.927 / 0.641\n",
            "Epoch 50: Train Loss/Valid Loss: 0.082 / 0.271 , R2_train/R2_valid: 0.950 / 0.826\n",
            "Epoch 51: Train Loss/Valid Loss: 0.095 / 0.567 , R2_train/R2_valid: 0.885 / 0.637\n",
            "Epoch 52: Train Loss/Valid Loss: 0.080 / 0.464 , R2_train/R2_valid: 0.906 / 0.703\n",
            "Epoch 53: Train Loss/Valid Loss: 0.038 / 0.380 , R2_train/R2_valid: 0.953 / 0.757\n",
            "Epoch 54: Train Loss/Valid Loss: 0.104 / 0.306 , R2_train/R2_valid: 0.815 / 0.804\n",
            "Epoch 55: Train Loss/Valid Loss: 0.099 / 0.499 , R2_train/R2_valid: 0.914 / 0.681\n",
            "Epoch 56: Train Loss/Valid Loss: 0.093 / 0.409 , R2_train/R2_valid: 0.894 / 0.738\n",
            "Epoch 57: Train Loss/Valid Loss: 0.039 / 0.292 , R2_train/R2_valid: 0.968 / 0.813\n",
            "Epoch 58: Train Loss/Valid Loss: 0.070 / 0.470 , R2_train/R2_valid: 0.914 / 0.699\n",
            "Epoch 59: Train Loss/Valid Loss: 0.078 / 0.564 , R2_train/R2_valid: 0.888 / 0.639\n",
            "Epoch 60: Train Loss/Valid Loss: 0.070 / 0.423 , R2_train/R2_valid: 0.943 / 0.729\n",
            "Epoch 61: Train Loss/Valid Loss: 0.113 / 0.564 , R2_train/R2_valid: 0.883 / 0.639\n",
            "Epoch 62: Train Loss/Valid Loss: 0.079 / 0.446 , R2_train/R2_valid: 0.838 / 0.715\n",
            "Epoch 63: Train Loss/Valid Loss: 0.081 / 0.446 , R2_train/R2_valid: 0.933 / 0.715\n",
            "Epoch 64: Train Loss/Valid Loss: 0.049 / 0.485 , R2_train/R2_valid: 0.937 / 0.690\n",
            "Epoch 65: Train Loss/Valid Loss: 0.046 / 0.265 , R2_train/R2_valid: 0.963 / 0.830\n",
            "Epoch 66: Train Loss/Valid Loss: 0.058 / 0.398 , R2_train/R2_valid: 0.944 / 0.745\n",
            "Epoch 67: Train Loss/Valid Loss: 0.036 / 0.348 , R2_train/R2_valid: 0.940 / 0.777\n",
            "Epoch 68: Train Loss/Valid Loss: 0.047 / 0.296 , R2_train/R2_valid: 0.885 / 0.811\n",
            "Epoch 69: Train Loss/Valid Loss: 0.056 / 0.248 , R2_train/R2_valid: 0.954 / 0.841\n",
            "Epoch 70: Train Loss/Valid Loss: 0.075 / 0.442 , R2_train/R2_valid: 0.812 / 0.717\n",
            "Epoch 71: Train Loss/Valid Loss: 0.078 / 0.233 , R2_train/R2_valid: 0.932 / 0.851\n",
            "Epoch 72: Train Loss/Valid Loss: 0.142 / 0.194 , R2_train/R2_valid: 0.879 / 0.876\n",
            "Epoch 73: Train Loss/Valid Loss: 0.064 / 0.331 , R2_train/R2_valid: 0.890 / 0.788\n",
            "Epoch 74: Train Loss/Valid Loss: 0.060 / 0.247 , R2_train/R2_valid: 0.949 / 0.842\n",
            "Epoch 75: Train Loss/Valid Loss: 0.039 / 0.380 , R2_train/R2_valid: 0.927 / 0.757\n",
            "Epoch 76: Train Loss/Valid Loss: 0.054 / 0.259 , R2_train/R2_valid: 0.947 / 0.834\n",
            "Epoch 77: Train Loss/Valid Loss: 0.041 / 0.525 , R2_train/R2_valid: 0.908 / 0.664\n",
            "Epoch 78: Train Loss/Valid Loss: 0.032 / 0.289 , R2_train/R2_valid: 0.935 / 0.815\n",
            "Epoch 79: Train Loss/Valid Loss: 0.081 / 0.407 , R2_train/R2_valid: 0.952 / 0.739\n",
            "Epoch 80: Train Loss/Valid Loss: 0.108 / 0.339 , R2_train/R2_valid: 0.890 / 0.783\n",
            "Epoch 81: Train Loss/Valid Loss: 0.053 / 0.120 , R2_train/R2_valid: 0.951 / 0.923\n",
            "Epoch 82: Train Loss/Valid Loss: 0.089 / 0.245 , R2_train/R2_valid: 0.925 / 0.843\n",
            "Epoch 83: Train Loss/Valid Loss: 0.077 / 0.219 , R2_train/R2_valid: 0.928 / 0.860\n",
            "Epoch 84: Train Loss/Valid Loss: 0.084 / 0.340 , R2_train/R2_valid: 0.873 / 0.782\n",
            "Epoch 85: Train Loss/Valid Loss: 0.049 / 0.255 , R2_train/R2_valid: 0.928 / 0.837\n",
            "Epoch 86: Train Loss/Valid Loss: 0.051 / 0.278 , R2_train/R2_valid: 0.929 / 0.822\n",
            "Epoch 87: Train Loss/Valid Loss: 0.040 / 0.377 , R2_train/R2_valid: 0.968 / 0.759\n",
            "Epoch 88: Train Loss/Valid Loss: 0.061 / 0.268 , R2_train/R2_valid: 0.929 / 0.828\n",
            "Epoch 89: Train Loss/Valid Loss: 0.051 / 0.265 , R2_train/R2_valid: 0.960 / 0.831\n",
            "Epoch 90: Train Loss/Valid Loss: 0.078 / 0.284 , R2_train/R2_valid: 0.946 / 0.818\n",
            "Epoch 91: Train Loss/Valid Loss: 0.063 / 0.245 , R2_train/R2_valid: 0.932 / 0.843\n",
            "Epoch 92: Train Loss/Valid Loss: 0.076 / 0.236 , R2_train/R2_valid: 0.903 / 0.849\n",
            "Epoch 93: Train Loss/Valid Loss: 0.058 / 0.211 , R2_train/R2_valid: 0.926 / 0.865\n",
            "Epoch 94: Train Loss/Valid Loss: 0.048 / 0.185 , R2_train/R2_valid: 0.935 / 0.882\n",
            "Epoch 95: Train Loss/Valid Loss: 0.054 / 0.237 , R2_train/R2_valid: 0.880 / 0.848\n",
            "Epoch 96: Train Loss/Valid Loss: 0.058 / 0.325 , R2_train/R2_valid: 0.910 / 0.792\n",
            "Epoch 97: Train Loss/Valid Loss: 0.059 / 0.311 , R2_train/R2_valid: 0.875 / 0.801\n",
            "Epoch 98: Train Loss/Valid Loss: 0.048 / 0.307 , R2_train/R2_valid: 0.954 / 0.803\n",
            "Epoch 99: Train Loss/Valid Loss: 0.039 / 0.176 , R2_train/R2_valid: 0.966 / 0.887\n",
            "Epoch 100: Train Loss/Valid Loss: 0.054 / 0.490 , R2_train/R2_valid: 0.913 / 0.686\n"
          ]
        },
        {
          "output_type": "display_data",
          "data": {
            "text/plain": [
              "<Figure size 800x600 with 1 Axes>"
            ],
            "image/png": "[encoded data removed]"
          },
          "metadata": {}
        },
        {
          "output_type": "stream",
          "name": "stdout",
          "text": [
            "Entrenamiento finalizado\n"
          ]
        }
      ]
    },
    {
      "cell_type": "markdown",
      "source": [
        "**Obs. Se observa un ligero overfitting dado que la métrica de entrenamiento está por encima de la de validación.**"
      ],
      "metadata": {
        "id": "bpKPL7QjTkMJ"
      }
    },
    {
      "cell_type": "code",
      "source": [
        "#Guardo los parámetros del entrenamiento\n",
        "trained_model = nnet.state_dict()\n",
        "\n",
        "#En caso de requerirlo puedo usar estos parámetros\n",
        "#nnet.load_state_dict(modelo_entrenado)"
      ],
      "metadata": {
        "id": "nSD4Qjyz-K_S"
      },
      "execution_count": 27,
      "outputs": []
    },
    {
      "cell_type": "markdown",
      "source": [
        "**3- Elegir un usuario al azar, una película que dicho usuario haya puntuado y verificar la predicción del modelo. Comparar con el puntaje real que el usuario asignó a dicha película.**"
      ],
      "metadata": {
        "id": "LhC3r_4gxsky"
      }
    },
    {
      "cell_type": "code",
      "execution_count": 117,
      "metadata": {
        "id": "6_gd0PPbmdKm",
        "scrolled": true
      },
      "outputs": [],
      "source": [
        "#Defino una función para efectuar predicciones\n",
        "def predict(userId,movieId):\n",
        "    #Mapeo el userId a useridx\n",
        "    user_idx = torch.tensor([user_id_to_idx[userId]])\n",
        "    #Mapeo la movieId a movieidx\n",
        "    movie_idx = torch.tensor([movie_id_to_idx[movieId]])\n",
        "\n",
        "    #Defino el tensor que va a pasar por la red neuronal\n",
        "    x = torch.tensor([userId, movieId], dtype=torch.float32)\n",
        "\n",
        "    #Aplico la normalización\n",
        "    x_norm = (x-x_min)/(x_max-x_min)\n",
        "    x_norm = x_norm.unsqueeze(0)\n",
        "    x_norm = x_norm.to(dtype=torch.float32)\n",
        "    nnet.eval()\n",
        "    with torch.no_grad():\n",
        "      rating = nnet(x_norm, user_idx, movie_idx)\n",
        "      prediction = rating.item()\n",
        "      #Aplico redondeo dado que los ratings van de 0.5 en 0.5\n",
        "      rating = (round(prediction*2))/2\n",
        "    return rating\n"
      ]
    },
    {
      "cell_type": "code",
      "execution_count": 149,
      "metadata": {
        "id": "AvcZg0x56-Z0",
        "colab": {
          "base_uri": "https://localhost:8080/"
        },
        "outputId": "4c6a85f2-9fa2-47d1-9929-f0a7003ceff6"
      },
      "outputs": [
        {
          "output_type": "stream",
          "name": "stdout",
          "text": [
            "El userId es: 314 y la moveId es:6\n"
          ]
        }
      ],
      "source": [
        "#Lista de películas únicas\n",
        "movies = df_final['movieId'].unique()\n",
        "\n",
        "#Lista de usuarios únicos\n",
        "users =df_final['userId'].unique()\n",
        "\n",
        "#Selecciono un usuario al azar\n",
        "random_user = random.choice(users)\n",
        "\n",
        "random_user_movies = df_final[df_final['userId']==random_user]\n",
        "random_user_movies = random_user_movies.drop(['userId','rating','timestamp'],axis=1).to_numpy()\n",
        "random_movie = random.choice(random_user_movies)[0]\n",
        "\n",
        "print(f'El userId es: {random_user} y la moveId es:{random_movie}')"
      ]
    },
    {
      "cell_type": "code",
      "execution_count": 150,
      "metadata": {
        "id": "N2dmnpb2LSl2",
        "colab": {
          "base_uri": "https://localhost:8080/"
        },
        "outputId": "79c1e478-92a7-468d-a586-387c4feaf070"
      },
      "outputs": [
        {
          "output_type": "stream",
          "name": "stdout",
          "text": [
            "El rating predicho es 2.5 y el rating real fue de 3.0\n"
          ]
        }
      ],
      "source": [
        "#Ahora realizo la predicción\n",
        "prediction = predict(random_user,random_movie)\n",
        "\n",
        "#Ahora busco el rating real del random_user sobre la random_movie\n",
        "filter = (df_final['userId']==random_user)&(df_final['movieId']==random_movie)\n",
        "real_rating = df_final[filter].iloc[0,2]\n",
        "\n",
        "#Comparo\n",
        "print(f'El rating predicho es {prediction} y el rating real fue de {real_rating}')\n"
      ]
    },
    {
      "cell_type": "markdown",
      "source": [
        "**4- Realizar una recomendación de película para el usuario del punto 3 utilizando los embeddings de usuario o los embeddings de películas. Comprobar si la recomendación es correcta haciendo una predicción del puntuaje con la red neuronal**"
      ],
      "metadata": {
        "id": "JkZDXX3AIMri"
      }
    },
    {
      "cell_type": "code",
      "source": [
        "#Defino una función para recomendar basado en similaridad de embeddings\n",
        "def recommendation(userId):\n",
        "    #MApeo el userId a idx\n",
        "    user_idx = torch.tensor([user_id_to_idx[userId]])\n",
        "\n",
        "    #Calculo el embedding\n",
        "    user_embedding = nnet.embedding_user(user_idx)\n",
        "\n",
        "    #Aplico métrica de similitud para calcular tensor con películas afines al userId\n",
        "    similarity_scores = torch.nn.functional.cosine_similarity(user_embedding, nnet.embedding_movie.weight, dim=1)\n",
        "\n",
        "    #Ordeno los tensores\n",
        "    sorted_indices = torch.argsort(similarity_scores, descending=True)\n",
        "    num_recommendations = 1\n",
        "    recommended_movie_indices = sorted_indices[:num_recommendations]\n",
        "\n",
        "    #Mapeo de idx a id\n",
        "    movie_idx = recommended_movie_indices.item()\n",
        "    movie_id = next((key for key, value in movie_id_to_idx.items() if value == movie_idx), None)\n",
        "    return movie_id\n"
      ],
      "metadata": {
        "id": "AeyZ8wOSIZB9"
      },
      "execution_count": 152,
      "outputs": []
    },
    {
      "cell_type": "code",
      "source": [
        "#Calculo la recomendación\n",
        "recommend = recommendation(random_user)\n",
        "\n",
        "#Realizo la predicción del puntaje de la película recomendada\n",
        "prediction_2 = predict(random_user,recommend)\n",
        "\n",
        "print(f'La recomendación usando embeddings es de la movieId {recommend} y el rating predicho con la red neuronal para dicha película es {prediction_2}')\n"
      ],
      "metadata": {
        "colab": {
          "base_uri": "https://localhost:8080/"
        },
        "id": "LMUBbNDxIY-U",
        "outputId": "4a6adc52-4de2-4ef0-ae4a-3a4c2e4cdae3"
      },
      "execution_count": 154,
      "outputs": [
        {
          "output_type": "stream",
          "name": "stdout",
          "text": [
            "La recomendación usando embeddings es de la movieId 357 y el rating predicho con la red neuronal para dicha película es 4.5\n"
          ]
        }
      ]
    },
    {
      "cell_type": "code",
      "source": [],
      "metadata": {
        "id": "RX4uqzUnIY7M"
      },
      "execution_count": 136,
      "outputs": []
    },
    {
      "cell_type": "code",
      "source": [],
      "metadata": {
        "id": "8s8FVDi6IYqi"
      },
      "execution_count": null,
      "outputs": []
    }
  ],
  "metadata": {
    "accelerator": "GPU",
    "colab": {
      "provenance": []
    },
    "kernelspec": {
      "display_name": "Python 3",
      "name": "python3"
    },
    "language_info": {
      "codemirror_mode": {
        "name": "ipython",
        "version": 3
      },
      "file_extension": ".py",
      "mimetype": "text/x-python",
      "name": "python",
      "nbconvert_exporter": "python",
      "pygments_lexer": "ipython3",
      "version": "3.9.13"
    }
  },
  "nbformat": 4,
  "nbformat_minor": 0
}